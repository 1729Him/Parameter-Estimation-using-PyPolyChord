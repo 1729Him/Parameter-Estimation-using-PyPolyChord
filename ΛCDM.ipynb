{
  "cells": [
    {
      "cell_type": "code",
      "execution_count": 2,
      "metadata": {
        "id": "iLPvCMxh2PJJ"
      },
      "outputs": [],
      "source": [
        "from numpy import pi, log, sqrt\n",
        "import getdist\n",
        "import numpy as np\n",
        "from io import StringIO\n",
        "from getdist import plots, MCSamples\n",
        "import random\n",
        "from scipy.integrate import quad\n",
        "from scipy.integrate import odeint\n",
        "import scipy.integrate as integrate\n",
        "import matplotlib.pyplot as plt\n",
        "from scipy import stats\n",
        "import pypolychord\n",
        "from pypolychord.settings import PolyChordSettings\n",
        "from pypolychord.priors import UniformPrior, GaussianPrior\n",
        "import scipy.optimize as op\n",
        "from numpy.linalg import inv\n",
        "from mpi4py import MPI\n",
        "import sympy as sp\n",
        "import scipy.linalg as la"
      ]
    },
    {
      "cell_type": "code",
      "execution_count": 29,
      "metadata": {
        "id": "JvevdJzI6bX6"
      },
      "outputs": [],
      "source": [
        "#Build Full Covariance Matrix\n",
        "filename = 'data/HzTable_MM_BC03.dat'\n",
        "z, Hz, errHz = np.genfromtxt(filename, comments='#', usecols=(0,1,2), unpack=True, delimiter=',')\n",
        "ref = np.genfromtxt(filename, comments='#', usecols=(3), unpack=True, dtype=str, delimiter=',')\n",
        "\n",
        "\n",
        "filename = 'data/data_MM20.dat'\n",
        "zmod, imf, slib, sps, spsooo = np.genfromtxt(filename, comments='#', usecols=(0,1,2,3,4), unpack=True)\n",
        "\n",
        "cov_mat_diag = np.zeros((len(z), len(z)), dtype='float64')\n",
        "\n",
        "for i in range(len(z)):\n",
        "\tcov_mat_diag[i,i] = errHz[i]**2\n",
        "\n",
        "imf_intp = np.interp(z, zmod, imf)/100\n",
        "slib_intp = np.interp(z, zmod, slib)/100\n",
        "sps_intp = np.interp(z, zmod, sps)/100\n",
        "spsooo_intp = np.interp(z, zmod, spsooo)/100\n",
        "\n",
        "cov_mat_imf = np.zeros((len(z), len(z)), dtype='float64')\n",
        "cov_mat_slib = np.zeros((len(z), len(z)), dtype='float64')\n",
        "cov_mat_sps = np.zeros((len(z), len(z)), dtype='float64')\n",
        "cov_mat_spsooo = np.zeros((len(z), len(z)), dtype='float64')\n",
        "\n",
        "for i in range(len(z)):\n",
        "\tfor j in range(len(z)):\n",
        "\t\tcov_mat_imf[i,j] = Hz[i] * imf_intp[i] * Hz[j] * imf_intp[j]\n",
        "\t\tcov_mat_slib[i,j] = Hz[i] * slib_intp[i] * Hz[j] * slib_intp[j]\n",
        "\t\tcov_mat_sps[i,j] = Hz[i] * sps_intp[i] * Hz[j] * sps_intp[j]\n",
        "\t\tcov_mat_spsooo[i,j] = Hz[i] * spsooo_intp[i] * Hz[j] * spsooo_intp[j]\n",
        "\n",
        "\n",
        "cov_mat = cov_mat_spsooo+cov_mat_imf+cov_mat_diag\n",
        "inv_cov_mat = inv(cov_mat)\n",
        "\n",
        "cov_mat_cc = inv_cov_mat"
      ]
    },
    {
      "cell_type": "code",
      "execution_count": 30,
      "metadata": {
        "colab": {
          "base_uri": "https://localhost:8080/"
        },
        "id": "ANNRA5UV2PJK",
        "outputId": "2fd7f146-5000-4d7f-9051-62ec97bb3e34"
      },
      "outputs": [
        {
          "name": "stdout",
          "output_type": "stream",
          "text": [
            "['DVrd' 'DMrd' 'DHrd' 'DMrd' 'DHrd' 'DMrd' 'DHrd' 'DMrd' 'DHrd' 'DMrd'\n",
            " 'DHrd' 'DHrd' 'DMrd']\n"
          ]
        }
      ],
      "source": [
        "# load Pantheon dataset\n",
        "panthData = np.genfromtxt(\"data/pantheon_data.txt\")\n",
        "panthData = panthData[np.argsort(panthData[:,0])]\n",
        "\n",
        "# load Covariance Matrix\n",
        "cov = np.loadtxt('data/Pantheon_cov_all.cov')\n",
        "cov_mat = cov.reshape(1701, 1701)\n",
        "inverse_covar = la.inv(cov_mat)\n",
        "\n",
        "#loading BAO data\n",
        "dirBD= \"data/desi_gaussian_bao_ALL_GCcomb_mean.txt\"\n",
        "BaoData = np.genfromtxt(dirBD)\n",
        "xarr = np.array(BaoData[:,0])\n",
        "yarr = np.array(BaoData[:,1])\n",
        "\n",
        "funarr = np.genfromtxt(dirBD,dtype='str')[:,2]\n",
        "print(funarr)\n",
        "\n",
        "def modelArr(name):\n",
        "    mod = []\n",
        "\n",
        "    for j in range(len(funarr)):\n",
        "        if (funarr[j] == name):\n",
        "             mod.append([xarr[j],yarr[j]])\n",
        "    mod = np.array(mod)\n",
        "    mod = mod[np.argsort(mod[:,0])]\n",
        "    return mod\n",
        "\n",
        "cov_bao = np.loadtxt(\"data/desi_gaussian_bao_ALL_GCcomb_cov.txt\")  \n",
        "cov_bao_inv = np.linalg.inv(cov_bao)"
      ]
    },
    {
      "cell_type": "code",
      "execution_count": 36,
      "metadata": {
        "colab": {
          "base_uri": "https://localhost:8080/"
        },
        "id": "LaF26ZrX2PJL",
        "outputId": "8694a683-9a0d-4bc2-fb52-0140d6f47ed8"
      },
      "outputs": [
        {
          "data": {
            "text/plain": [
              "array([120.6      , 204.5421228, 308.2      ])"
            ]
          },
          "execution_count": 36,
          "metadata": {},
          "output_type": "execute_result"
        }
      ],
      "source": [
        "#H functions\n",
        "c = 299792.458\n",
        "\n",
        "def E(theta,z):\n",
        "    H0, Om, rd, M = theta\n",
        "    OL = 1 - Om\n",
        "    return np.sqrt(Om*(1+z)**3 + OL)\n",
        "\n",
        "def H(theta,z):\n",
        "    H0, Om, rd, M = theta\n",
        "    arr = []\n",
        "    for j in range(len(z)):\n",
        "        arr.append(H0*E(theta,z[j]))\n",
        "    arr = np.array(arr)\n",
        "    return arr\n",
        "\n",
        "H([67,0.32,147,-19],[1,2,3])"
      ]
    },
    {
      "cell_type": "code",
      "execution_count": 37,
      "metadata": {
        "colab": {
          "base_uri": "https://localhost:8080/"
        },
        "id": "F-u1L32w2PJL",
        "outputId": "512c922d-58fd-4d6d-ce1a-0eb61cf01b60"
      },
      "outputs": [
        {
          "data": {
            "text/plain": [
              "array([16.91048488,  9.97058429,  6.61714626])"
            ]
          },
          "execution_count": 37,
          "metadata": {},
          "output_type": "execute_result"
        }
      ],
      "source": [
        "#DH functions\n",
        "def DH(theta,z):\n",
        "    H0, Om, rd, M = theta\n",
        "    arr = []\n",
        "    for j in range(len(z)):\n",
        "        arr.append(c/(H0*E(theta,z[j])))\n",
        "    arr = np.array(arr)\n",
        "    return arr\n",
        "\n",
        "def DHrd(theta,z):\n",
        "    H0, Om, rd, M = theta\n",
        "    arr = []\n",
        "\n",
        "    for j in range(len(z)):\n",
        "        arr.append(c/(H0*E(theta,z[j])*rd))\n",
        "    arr = np.array(arr)\n",
        "    return arr\n",
        "\n",
        "DHrd([67,0.32,147,-19],[1,2,3])"
      ]
    },
    {
      "cell_type": "code",
      "execution_count": 38,
      "metadata": {
        "id": "68gJ1AFI2PJL"
      },
      "outputs": [],
      "source": [
        "def Sk(theta,x):\n",
        "    H0, Om, rd, M = theta\n",
        "    Ok =0\n",
        "    if Ok < -10**(-15):\n",
        "        return np.sin(np.sqrt(-Ok)*x)/np.sqrt(-Ok)\n",
        "    #if Ok == 0:\n",
        "    #    return x\n",
        "    elif Ok > 10**(-15):\n",
        "        return np.sinh(np.sqrt(Ok)*x)/np.sqrt(Ok)\n",
        "    else:\n",
        "        return x"
      ]
    },
    {
      "cell_type": "code",
      "execution_count": 39,
      "metadata": {
        "colab": {
          "base_uri": "https://localhost:8080/"
        },
        "id": "HwOl9Gip2PJL",
        "outputId": "7a3d4f0c-219c-4c8d-ac3d-d6b9717ed23f"
      },
      "outputs": [
        {
          "data": {
            "text/plain": [
              "array([0.7624812 , 1.18936468, 1.45585048])"
            ]
          },
          "execution_count": 39,
          "metadata": {},
          "output_type": "execute_result"
        }
      ],
      "source": [
        "# function that returns dDC/dz,df/dz\n",
        "def dchidz(x,z, H0, Om, rd, M):\n",
        "    return 1/E([H0, Om, rd, M],z)\n",
        "\n",
        "def chiInt(theta,z):\n",
        "    H0, Om, rd, M = theta\n",
        "    z = np.hstack((np.array((0)), z))\n",
        "    arr = odeint(dchidz,0,z,args=(H0, Om, rd, M,))\n",
        "    return np.delete(arr ,0)\n",
        "\n",
        "chiInt([67,0.32,147,-19],[1,2,3])"
      ]
    },
    {
      "cell_type": "code",
      "execution_count": 40,
      "metadata": {
        "colab": {
          "base_uri": "https://localhost:8080/"
        },
        "id": "NUU2xsw22PJL",
        "outputId": "6ed9a582-8c02-40bf-cc73-f280793adef5"
      },
      "outputs": [
        {
          "data": {
            "text/plain": [
              "array([23.20906838, 36.20292027, 44.31444763])"
            ]
          },
          "execution_count": 40,
          "metadata": {},
          "output_type": "execute_result"
        }
      ],
      "source": [
        "#DM\n",
        "\n",
        "def DM(theta,z):\n",
        "    H0, Om, rd, M = theta\n",
        "    chi = chiInt(theta,z)\n",
        "\n",
        "    arr = []\n",
        "\n",
        "    for i in range(len(z)):\n",
        "        arr.append(c*Sk(theta,chi[i])/H0)\n",
        "    arr = np.array(arr)\n",
        "    arr.shape\n",
        "    return arr\n",
        "\n",
        "def DMrd(theta,z):\n",
        "    H0, Om, rd, M = theta\n",
        "    chi = chiInt(theta,z)\n",
        "\n",
        "    arr = []\n",
        "\n",
        "    for i in range(len(z)):\n",
        "        arr.append(c*Sk(theta,chi[i])/(H0*rd))\n",
        "    arr = np.array(arr)\n",
        "    arr.shape\n",
        "    return arr\n",
        "\n",
        "DMrd([67,0.32,147,-19],[1,2,3])"
      ]
    },
    {
      "cell_type": "code",
      "execution_count": 41,
      "metadata": {
        "colab": {
          "base_uri": "https://localhost:8080/"
        },
        "id": "Iywjivhu2PJM",
        "outputId": "4d91b19d-797a-4939-f84d-1608d1edcf44"
      },
      "outputs": [
        {
          "data": {
            "text/plain": [
              "array([ 8.09489205, 12.88345356, 31.38816821])"
            ]
          },
          "execution_count": 41,
          "metadata": {},
          "output_type": "execute_result"
        }
      ],
      "source": [
        "#DV\n",
        "\n",
        "def DV(theta,z):\n",
        "    H0, Om, rd, M = theta\n",
        "    dh = DH(theta,z)\n",
        "    dm = DM(theta,z)\n",
        "    arr = []\n",
        "\n",
        "    for i in range(len(z)):\n",
        "        arr.append(np.cbrt(z[i]*dh[i]*dm[i]**2))\n",
        "    arr = np.array(arr)\n",
        "    arr.shape\n",
        "    return arr\n",
        "\n",
        "def DVrd(theta,z):\n",
        "\n",
        "    H0, Om, rd, M = theta\n",
        "\n",
        "    dh = DH(theta,z)\n",
        "    dm = DM(theta,z)\n",
        "    arr = []\n",
        "\n",
        "    for i in range(len(z)):\n",
        "        arr.append(np.cbrt(z[i]*dh[i]*dm[i]**2)/rd)\n",
        "    arr = np.array(arr)\n",
        "    arr.shape\n",
        "    return arr\n",
        "\n",
        "DVrd([67,0.32,147,-19],[0.295,0.510,2.330])"
      ]
    },
    {
      "cell_type": "code",
      "execution_count": 42,
      "metadata": {
        "id": "x2D3qSLQ2PJM"
      },
      "outputs": [],
      "source": [
        "def DL(theta,z):\n",
        "    H0, Om, rd, M = theta\n",
        "    chi = chiInt(theta,z)\n",
        "    return c*chi/H0\n",
        "\n",
        "def mu(theta,z):\n",
        "    H0, Om, rd, M = theta\n",
        "    dL = DL(theta,z)\n",
        "    mu = []\n",
        "\n",
        "    for i in range(len(z)):\n",
        "        mu.append(5*np.log10(dL[i]*(1+z[i])) + 25 + M)\n",
        "    mu = np.array(mu)\n",
        "    mu.shape\n",
        "    return mu"
      ]
    },
    {
      "cell_type": "code",
      "execution_count": 43,
      "metadata": {
        "id": "kBOAAHm2cLZv"
      },
      "outputs": [],
      "source": [
        "def Omega_Lambda(theta):\n",
        "    H0, Om, rd, M = theta\n",
        "    OL = 1 - Om\n",
        "    return OL"
      ]
    },
    {
      "cell_type": "code",
      "execution_count": 44,
      "metadata": {
        "colab": {
          "base_uri": "https://localhost:8080/"
        },
        "id": "CWPnp7ta6ffr",
        "outputId": "d14fedc5-cad2-45d3-eb16-f7fe9191d1da"
      },
      "outputs": [
        {
          "name": "stdout",
          "output_type": "stream",
          "text": [
            "(np.float64(-6.183367402883179), [15, np.float64(0.5621243093530163), np.float64(0.8608533971088996), 0.6799999999999999])\n"
          ]
        }
      ],
      "source": [
        "def lnlike(theta,model,z,Hz,cov_mat_cc):\n",
        "    prediction = model(theta,z)\n",
        "    residualcc = prediction - Hz\n",
        "    chi2 = residualcc.T @ cov_mat_cc @ residualcc\n",
        "    return chi2\n",
        "\n",
        "def lnlikeCC(theta):\n",
        "    chi = 0; i = 0\n",
        "    chi += lnlike(theta, H, z, Hz, cov_mat_cc)\n",
        "    i += len(z)\n",
        "    OL = Omega_Lambda(theta)\n",
        "    return -chi, [i, chi/(i-len(theta)),1-stats.chi2.cdf(x=chi, df=(i-len(theta))),OL]\n",
        "\n",
        "print(lnlikeCC([67,0.32,147,-19]))"
      ]
    },
    {
      "cell_type": "code",
      "execution_count": 45,
      "metadata": {
        "colab": {
          "base_uri": "https://localhost:8080/"
        },
        "id": "P2bmuSJz2PJN",
        "outputId": "109e505e-bea5-4e4f-8fed-f4b6f65e624f"
      },
      "outputs": [
        {
          "name": "stdout",
          "output_type": "stream",
          "text": [
            "40.55527665589692\n"
          ]
        }
      ],
      "source": [
        "# likelihood with covariance matrix\n",
        "def lnlikecov(theta, model, x, y, cov):\n",
        "    prediction = []\n",
        "\n",
        "    for i in range(len(model)):\n",
        "        fun = model[i]\n",
        "        prediction.append(eval(fun)(theta, [x[i]]))\n",
        "    prediction = np.array(prediction)[:, 0]\n",
        "    vec = (prediction - y)\n",
        "    result = np.dot(np.dot(vec, cov), vec.T)\n",
        "    return result\n",
        "\n",
        "print(lnlikecov([67, 0.32, 147, -19], funarr, np.array(BaoData[:, 0]), np.array(BaoData[:, 1]), cov_bao_inv))"
      ]
    },
    {
      "cell_type": "code",
      "execution_count": 46,
      "metadata": {},
      "outputs": [
        {
          "data": {
            "text/plain": [
              "(np.float64(-40.55527665589692),\n",
              " [np.float64(40.55527665589692),\n",
              "  np.float64(4.506141850655213),\n",
              "  np.float64(6.0255719672719366e-06),\n",
              "  0.6799999999999999])"
            ]
          },
          "execution_count": 46,
          "metadata": {},
          "output_type": "execute_result"
        }
      ],
      "source": [
        "def lnlikeBAO(theta):\n",
        "    x = np.array(BaoData[:, 0])\n",
        "    y = np.array(BaoData[:, 1])\n",
        "\n",
        "    # Use your manually loaded inverse covariance matrix\n",
        "    chi = lnlikecov(theta, funarr, x, y, cov_bao_inv)\n",
        "    i = len(x)\n",
        "    OL = Omega_Lambda(theta)\n",
        "    return -chi, [chi, chi / (i - len(theta)), 1 - stats.chi2.cdf(x=chi, df=(i - len(theta))), OL]\n",
        "\n",
        "lnlikeBAO([67,0.32,147,-19])"
      ]
    },
    {
      "cell_type": "code",
      "execution_count": 47,
      "metadata": {
        "colab": {
          "base_uri": "https://localhost:8080/"
        },
        "id": "waY_QiUk2PJN",
        "outputId": "b7706e9f-dc8a-44a2-8180-e26cf1e963ee"
      },
      "outputs": [
        {
          "name": "stdout",
          "output_type": "stream",
          "text": [
            "(np.float64(-16853.479589103663), [np.float64(16853.479589103663), np.float64(9.93133741255372), np.float64(0.0), 0.6799999999999999])\n"
          ]
        }
      ],
      "source": [
        "def A(theta, x, y, inverse_covar):\n",
        "    Mu = mu(theta, x)\n",
        "    residual = y - Mu\n",
        "    chi2 = residual.T @ inverse_covar @ residual\n",
        "    return chi2\n",
        "\n",
        "def lnlikeSNIa(theta):\n",
        "    chi = A(theta, panthData[:, 0], panthData[:, 1], inverse_covar)\n",
        "    i = len(panthData[:, 0])\n",
        "    OL = Omega_Lambda(theta)\n",
        "    return -chi, [chi, chi/(i-len(theta)),1-stats.chi2.cdf(x=chi, df=(i-len(theta))),OL]\n",
        "\n",
        "print(lnlikeSNIa([67,0.32,147,-19]))"
      ]
    },
    {
      "cell_type": "code",
      "execution_count": 48,
      "metadata": {
        "colab": {
          "base_uri": "https://localhost:8080/"
        },
        "id": "ov9mCfXwZet_",
        "outputId": "3d19f439-084d-490b-adb8-e727c465ce94"
      },
      "outputs": [
        {
          "name": "stdout",
          "output_type": "stream",
          "text": [
            "(np.float64(-16900.218233162443), [np.float64(16900.218233162443), np.float64(9.79722796125359), np.float64(0.0), 0.6799999999999999])\n"
          ]
        }
      ],
      "source": [
        "def lnlikeTot(theta):\n",
        "\n",
        "    chi = lnlikecov(theta, funarr, np.array(BaoData[:, 0]), np.array(BaoData[:, 1]), cov_bao_inv)\n",
        "    i = len(BaoData[:, 0])\n",
        "    chi += lnlike(theta, H, z, Hz, cov_mat_cc); i += len(z)\n",
        "    chi += A(theta, panthData[:,0], panthData[:,1], inverse_covar);i += len(panthData[:,0])\n",
        "    OL = Omega_Lambda(theta)\n",
        "    return -chi, [chi, chi/(i-len(theta)), 1 - stats.chi2.cdf(x=chi, df=(i-len(theta))),OL]\n",
        "\n",
        "print(lnlikeTot([67,0.32,147,-19]))"
      ]
    },
    {
      "cell_type": "code",
      "execution_count": 49,
      "metadata": {
        "id": "M4Uvdrfe2PJN"
      },
      "outputs": [],
      "source": [
        "runs = 100"
      ]
    },
    {
      "cell_type": "code",
      "execution_count": 50,
      "metadata": {
        "id": "ARypjowZ2PJN"
      },
      "outputs": [],
      "source": [
        "def dumper(live, dead, logweights, logZ, logZerr):\n",
        "    print(\"Last dead point:\", dead[-1])"
      ]
    },
    {
      "cell_type": "code",
      "execution_count": 51,
      "metadata": {
        "id": "UaxFjHKm2PJN"
      },
      "outputs": [],
      "source": [
        "def uniprior(hypercube):\n",
        "    prior = []\n",
        "    prior.append(UniformPrior(50.,100.)(hypercube[0]))\n",
        "    prior.append(UniformPrior(0.,1.)(hypercube[1]))\n",
        "    prior.append(UniformPrior(100.,200.)(hypercube[2]))\n",
        "    prior.append(UniformPrior(-20,-18.)(hypercube[3]))\n",
        "    return prior"
      ]
    },
    {
      "cell_type": "code",
      "execution_count": 52,
      "metadata": {
        "id": "VBy9WI7Q2PJN"
      },
      "outputs": [],
      "source": [
        "settingsTot = PolyChordSettings(4,4)\n",
        "settingsTot.file_root = 'CC + SNIa + BAO'\n",
        "settingsTot.nlive = runs\n",
        "settingsTot.do_clustering = True\n",
        "settingsTot.read_resume = False"
      ]
    },
    {
      "cell_type": "code",
      "execution_count": 53,
      "metadata": {
        "id": "J5ScIJle2PJO"
      },
      "outputs": [
        {
          "name": "stdout",
          "output_type": "stream",
          "text": [
            "PolyChord: MPI is already initilised, not initialising, and will not finalize\n",
            "\n",
            "PolyChord: Next Generation Nested Sampling\n",
            "copyright: Will Handley, Mike Hobson & Anthony Lasenby\n",
            "  version: 1.22.1\n",
            "  release: 10th Jan 2024\n",
            "    email: wh260@mrao.cam.ac.uk\n",
            "\n",
            "Run Settings\n",
            "nlive    :     100\n",
            "nDims    :       4\n",
            "nDerived :       4\n",
            "Doing Clustering\n",
            "Synchronous parallelisation\n",
            "Generating equally weighted posteriors\n",
            "Generating weighted posteriors\n",
            "Clustering on posteriors\n",
            "Writing a resume file to chains/CC + SNIa + BAO.resume\n",
            "\n",
            "generating live points\n",
            "\n",
            "\n",
            "all live points generated\n",
            "\n",
            "Speed  1 =  0.332E-02 seconds\n",
            "number of repeats:           20\n",
            "started sampling\n",
            "\n",
            "Last dead point: [ 7.01649125e+01  4.39169081e-01  1.26678634e+02 -1.98151816e+01\n",
            "  2.12701037e+04  1.23304949e+01  0.00000000e+00  5.60830919e-01\n",
            " -1.00000000e+30 -2.12701037e+04]\n",
            "_________________\n",
            "lives      | 100 |\n",
            "phantoms   |1165 |\n",
            "posteriors | 101 |\n",
            "equals     |   1 |\n",
            "‾‾‾‾‾‾‾‾‾‾‾‾‾‾‾‾‾\n",
            "ncluster   =       1 /       1\n",
            "ndead      =                 101\n",
            "nposterior =                 101\n",
            "nequals    =                   1\n",
            "nlike      =                3396\n",
            "<nlike>    =          32.96   (           1.65 per slice )\n",
            "log(Z)     =       -21276.06 +/-  0.83\n",
            "log(Z_1)   =       -21276.06 +/-  0.83 (still evaluating)\n",
            "\n",
            "\n",
            "\n",
            "Last dead point: [ 7.77746849e+01  4.47179918e-01  1.45427605e+02 -1.88847510e+01\n",
            "  9.52613070e+03  5.52239461e+00  0.00000000e+00  5.52820082e-01\n",
            " -1.00000000e+30 -9.52613070e+03]\n",
            "_____________________________\n",
            "lives      |  97 |   1 |   2 |\n",
            "phantoms   |1701 |  49 |  32 |\n",
            "posteriors | 196 | 107 | 104 |\n",
            "equals     |   1 |   1 |   1 |\n",
            "‾‾‾‾‾‾‾‾‾‾‾‾‾‾‾‾‾‾‾‾‾‾‾‾‾‾‾‾‾\n",
            "ncluster   =       3 /       3\n",
            "ndead      =                 205\n",
            "nposterior =                 205\n",
            "nequals    =                   1\n",
            "nlike      =               10615\n",
            "<nlike>    =          72.19   (           3.61 per slice )\n",
            "log(Z)     =        -9533.16 +/-  0.84\n",
            "log(Z_1)   =        -9533.16 +/-  0.84 (still evaluating)\n",
            "log(Z_2)   =       -11292.44 +/-  0.74 (still evaluating)\n",
            "log(Z_3)   =       -13907.53 +/-  0.77 (still evaluating)\n",
            "\n",
            "\n",
            "\n",
            "Last dead point: [ 8.98354729e+01  2.91505712e-01  1.17166311e+02 -1.90386492e+01\n",
            "  5.49314233e+03  3.18443034e+00  0.00000000e+00  7.08494288e-01\n",
            " -6.39246995e+03 -5.49314233e+03]\n",
            "_________________\n",
            "lives      | 100 |\n",
            "phantoms   |1915 |\n",
            "posteriors | 287 |\n",
            "equals     |   1 |\n",
            "‾‾‾‾‾‾‾‾‾‾‾‾‾‾‾‾‾\n",
            "ncluster   =       1 /       3\n",
            "ndead      =                 299\n",
            "nposterior =                 299\n",
            "nequals    =                   1\n",
            "nlike      =               17483\n",
            "<nlike>    =          68.68   (           3.43 per slice )\n",
            "log(Z)     =        -5501.12 +/-  0.84\n",
            "log(Z_1)   =        -5501.12 +/-  0.84 (still evaluating)\n",
            "log(Z_2)   =        -6103.21 +/-  0.77\n",
            "log(Z_3)   =        -8458.18 +/-  0.81\n",
            "\n",
            "\n",
            "\n",
            "Last dead point: [ 8.63867528e+01  1.32611123e-01  1.37263125e+02 -1.90665312e+01\n",
            "  3.65306983e+03  2.11772164e+00  0.00000000e+00  8.67388877e-01\n",
            " -6.08981529e+03 -3.65306983e+03]\n",
            "_________________\n",
            "lives      | 100 |\n",
            "phantoms   |1953 |\n",
            "posteriors | 388 |\n",
            "equals     |   1 |\n",
            "‾‾‾‾‾‾‾‾‾‾‾‾‾‾‾‾‾\n",
            "ncluster   =       1 /       3\n",
            "ndead      =                 400\n",
            "nposterior =                 400\n",
            "nequals    =                   1\n",
            "nlike      =               24149\n",
            "<nlike>    =          66.66   (           3.33 per slice )\n",
            "log(Z)     =        -3661.93 +/-  0.80\n",
            "log(Z_1)   =        -3661.93 +/-  0.80 (still evaluating)\n",
            "log(Z_2)   =        -6103.21 +/-  0.77\n",
            "log(Z_3)   =        -8458.18 +/-  0.81\n",
            "\n",
            "\n",
            "\n",
            "Last dead point: [ 8.33266598e+01  3.23575451e-01  1.29938580e+02 -1.89375553e+01\n",
            "  2.71345189e+03  1.57301559e+00  0.00000000e+00  6.76424549e-01\n",
            " -4.48963818e+03 -2.71345189e+03]\n",
            "_________________\n",
            "lives      | 100 |\n",
            "phantoms   |1992 |\n",
            "posteriors | 489 |\n",
            "equals     |   1 |\n",
            "‾‾‾‾‾‾‾‾‾‾‾‾‾‾‾‾‾\n",
            "ncluster   =       1 /       3\n",
            "ndead      =                 501\n",
            "nposterior =                 501\n",
            "nequals    =                   1\n",
            "nlike      =               31445\n",
            "<nlike>    =          72.96   (           3.65 per slice )\n",
            "log(Z)     =        -2723.26 +/-  0.79\n",
            "log(Z_1)   =        -2723.26 +/-  0.79 (still evaluating)\n",
            "log(Z_2)   =        -6103.21 +/-  0.77\n",
            "log(Z_3)   =        -8458.18 +/-  0.81\n",
            "\n",
            "\n",
            "\n",
            "Last dead point: [ 6.07030450e+01  4.50623049e-01  1.57374422e+02 -1.96539745e+01\n",
            "  2.23181315e+03  1.29380472e+00  1.22124533e-15  5.49376951e-01\n",
            " -2.93995983e+03 -2.23181315e+03]\n",
            "_________________\n",
            "lives      | 100 |\n",
            "phantoms   |1839 |\n",
            "posteriors | 590 |\n",
            "equals     |   1 |\n",
            "‾‾‾‾‾‾‾‾‾‾‾‾‾‾‾‾‾\n",
            "ncluster   =       1 /       3\n",
            "ndead      =                 602\n",
            "nposterior =                 602\n",
            "nequals    =                   1\n",
            "nlike      =               39198\n",
            "<nlike>    =          77.53   (           3.88 per slice )\n",
            "log(Z)     =        -2242.69 +/-  0.81\n",
            "log(Z_1)   =        -2242.69 +/-  0.81 (still evaluating)\n",
            "log(Z_2)   =        -6103.21 +/-  0.77\n",
            "log(Z_3)   =        -8458.18 +/-  0.81\n",
            "\n",
            "\n",
            "\n",
            "Last dead point: [ 7.36126343e+01  2.69682227e-01  1.42160213e+02 -1.92070609e+01\n",
            "  2.00577258e+03  1.16276671e+00  2.62945584e-06  7.30317773e-01\n",
            " -2.02954707e+03 -2.00577258e+03]\n",
            "_________________\n",
            "lives      | 100 |\n",
            "phantoms   |1925 |\n",
            "posteriors | 691 |\n",
            "equals     |   2 |\n",
            "‾‾‾‾‾‾‾‾‾‾‾‾‾‾‾‾‾\n",
            "ncluster   =       1 /       3\n",
            "ndead      =                 703\n",
            "nposterior =                 703\n",
            "nequals    =                   3\n",
            "nlike      =               46932\n",
            "<nlike>    =          77.34   (           3.87 per slice )\n",
            "log(Z)     =        -2016.77 +/-  0.60\n",
            "log(Z_1)   =        -2016.77 +/-  0.60 (still evaluating)\n",
            "log(Z_2)   =        -6103.21 +/-  0.77\n",
            "log(Z_3)   =        -8458.18 +/-  0.81\n",
            "\n",
            "\n",
            "\n",
            "Last dead point: [ 7.37597708e+01  2.94532923e-01  1.33579860e+02 -1.92488097e+01\n",
            "  1.90159635e+03  1.10237470e+00  1.74479683e-03  7.05467077e-01\n",
            " -1.94996500e+03 -1.90159635e+03]\n",
            "_________________\n",
            "lives      | 100 |\n",
            "phantoms   |2082 |\n",
            "posteriors | 792 |\n",
            "equals     |   5 |\n",
            "‾‾‾‾‾‾‾‾‾‾‾‾‾‾‾‾‾\n",
            "ncluster   =       1 /       3\n",
            "ndead      =                 804\n",
            "nposterior =                 804\n",
            "nequals    =                   3\n",
            "nlike      =               55138\n",
            "<nlike>    =          82.06   (           4.10 per slice )\n",
            "log(Z)     =        -1913.13 +/-  0.53\n",
            "log(Z_1)   =        -1913.13 +/-  0.53 (still evaluating)\n",
            "log(Z_2)   =        -6103.21 +/-  0.77\n",
            "log(Z_3)   =        -8458.18 +/-  0.81\n",
            "\n",
            "\n",
            "\n",
            "Last dead point: [ 5.47083817e+01  3.43311382e-01  1.78069635e+02 -1.98557679e+01\n",
            "  1.83451165e+03  1.06348501e+00  3.30543200e-02  6.56688618e-01\n",
            " -2.40147873e+03 -1.83451165e+03]\n",
            "_________________\n",
            "lives      | 100 |\n",
            "phantoms   |1905 |\n",
            "posteriors | 893 |\n",
            "equals     |   3 |\n",
            "‾‾‾‾‾‾‾‾‾‾‾‾‾‾‾‾‾\n",
            "ncluster   =       1 /       3\n",
            "ndead      =                 905\n",
            "nposterior =                 905\n",
            "nequals    =                   3\n",
            "nlike      =               63770\n",
            "<nlike>    =          86.32   (           4.32 per slice )\n",
            "log(Z)     =        -1847.30 +/-  0.53\n",
            "log(Z_1)   =        -1847.30 +/-  0.53 (still evaluating)\n",
            "log(Z_2)   =        -6103.21 +/-  0.77\n",
            "log(Z_3)   =        -8458.18 +/-  0.81\n",
            "\n",
            "\n",
            "\n",
            "Last dead point: [ 6.46545840e+01  3.33197906e-01  1.52351594e+02 -1.94993686e+01\n",
            "  1.80053147e+03  1.04378636e+00  1.00459225e-01  6.66802094e-01\n",
            " -1.85102965e+03 -1.80053147e+03]\n",
            "_______________________\n",
            "lives      |  98 |   2 |\n",
            "phantoms   |2054 | 103 |\n",
            "posteriors | 986 | 902 |\n",
            "equals     |   4 |   1 |\n",
            "‾‾‾‾‾‾‾‾‾‾‾‾‾‾‾‾‾‾‾‾‾‾‾\n",
            "ncluster   =       2 /       4\n",
            "ndead      =                1007\n",
            "nposterior =                1007\n",
            "nequals    =                   6\n",
            "nlike      =               73852\n",
            "<nlike>    =         100.82   (           5.04 per slice )\n",
            "log(Z)     =        -1813.40 +/-  0.42\n",
            "log(Z_1)   =        -1813.56 +/-  0.43 (still evaluating)\n",
            "log(Z_2)   =        -1815.60 +/-  0.86 (still evaluating)\n",
            "log(Z_3)   =        -6103.21 +/-  0.77\n",
            "log(Z_4)   =        -8458.18 +/-  0.81\n",
            "\n",
            "\n",
            "\n",
            "Last dead point: [ 8.16976607e+01  3.10726726e-01  1.21804201e+02 -1.90157222e+01\n",
            "  1.78161007e+03  1.03281743e+00  1.67330579e-01  6.89273274e-01\n",
            " -1.79333806e+03 -1.78161007e+03]\n",
            "_______________________\n",
            "lives      |  46 |  54 |\n",
            "phantoms   |1031 |1084 |\n",
            "posteriors |1026 |1042 |\n",
            "equals     |   5 |   4 |\n",
            "‾‾‾‾‾‾‾‾‾‾‾‾‾‾‾‾‾‾‾‾‾‾‾\n",
            "ncluster   =       2 /       5\n",
            "ndead      =                1106\n",
            "nposterior =                1106\n",
            "nequals    =                   6\n",
            "nlike      =               85880\n",
            "<nlike>    =         120.28   (           6.01 per slice )\n",
            "log(Z)     =        -1795.34 +/-  0.41\n",
            "log(Z_1)   =        -1795.95 +/-  0.45 (still evaluating)\n",
            "log(Z_2)   =        -1796.20 +/-  0.52 (still evaluating)\n",
            "log(Z_3)   =        -1807.77 +/-  0.68\n",
            "log(Z_4)   =        -6103.21 +/-  0.77\n",
            "log(Z_5)   =        -8458.18 +/-  0.81\n",
            "\n",
            "\n",
            "\n",
            "Last dead point: [ 7.14626690e+01  3.02722347e-01  1.40310655e+02 -1.93217384e+01\n",
            "  1.77056243e+03  1.02641301e+00  2.17605457e-01  6.97277653e-01\n",
            " -1.77077360e+03 -1.77056243e+03]\n",
            "_____________________________\n",
            "lives      |  40 |   4 |  56 |\n",
            "phantoms   | 914 | 152 |1249 |\n",
            "posteriors |1079 |1051 |1083 |\n",
            "equals     |  11 |   2 |   9 |\n",
            "‾‾‾‾‾‾‾‾‾‾‾‾‾‾‾‾‾‾‾‾‾‾‾‾‾‾‾‾‾\n",
            "ncluster   =       3 /       6\n",
            "ndead      =                1209\n",
            "nposterior =                1209\n",
            "nequals    =                  22\n",
            "nlike      =              100295\n",
            "<nlike>    =         144.15   (           7.21 per slice )\n",
            "log(Z)     =        -1784.37 +/-  0.37\n",
            "log(Z_1)   =        -1784.95 +/-  0.41 (still evaluating)\n",
            "log(Z_2)   =        -1785.29 +/-  0.43 (still evaluating)\n",
            "log(Z_3)   =        -1788.25 +/-  0.63 (still evaluating)\n",
            "log(Z_4)   =        -1807.77 +/-  0.68\n",
            "log(Z_5)   =        -6103.21 +/-  0.77\n",
            "log(Z_6)   =        -8458.18 +/-  0.81\n",
            "\n",
            "\n",
            "\n",
            "Last dead point: [ 7.20222609e+01  3.14584361e-01  1.38959661e+02 -1.93034607e+01\n",
            "  1.76467752e+03  1.02300146e+00  2.47703928e-01  6.85415639e-01\n",
            " -1.76598340e+03 -1.76467752e+03]\n",
            "___________________________________\n",
            "lives      |  46 |   3 |  42 |   9 |\n",
            "phantoms   |1064 | 127 |1002 | 343 |\n",
            "posteriors |1130 |1054 |1116 |1102 |\n",
            "equals     |  12 |   3 |   7 |   5 |\n",
            "‾‾‾‾‾‾‾‾‾‾‾‾‾‾‾‾‾‾‾‾‾‾‾‾‾‾‾‾‾‾‾‾‾‾‾\n",
            "ncluster   =       4 /       7\n",
            "ndead      =                1315\n",
            "nposterior =                1315\n",
            "nequals    =                  16\n",
            "nlike      =              119747\n",
            "<nlike>    =         194.52   (           9.73 per slice )\n",
            "log(Z)     =        -1779.32 +/-  0.37\n",
            "log(Z_1)   =        -1780.10 +/-  0.41 (still evaluating)\n",
            "log(Z_2)   =        -1780.48 +/-  0.45 (still evaluating)\n",
            "log(Z_3)   =        -1781.18 +/-  0.50 (still evaluating)\n",
            "log(Z_4)   =        -1782.65 +/-  0.75 (still evaluating)\n",
            "log(Z_5)   =        -1807.77 +/-  0.68\n",
            "log(Z_6)   =        -6103.21 +/-  0.77\n",
            "log(Z_7)   =        -8458.18 +/-  0.81\n",
            "\n",
            "\n",
            "\n",
            "Last dead point: [ 7.04577562e+01  3.26953673e-01  1.40732439e+02 -1.93323854e+01\n",
            "  1.76099721e+03  1.02086795e+00  2.67636777e-01  6.73046327e-01\n",
            " -1.77129234e+03 -1.76099721e+03]\n",
            "___________________________________\n",
            "lives      |  46 |   6 |  38 |  10 |\n",
            "phantoms   |1120 | 224 |1062 | 379 |\n",
            "posteriors |1181 |1115 |1141 |1126 |\n",
            "equals     |  32 |   7 |  13 |   6 |\n",
            "‾‾‾‾‾‾‾‾‾‾‾‾‾‾‾‾‾‾‾‾‾‾‾‾‾‾‾‾‾‾‾‾‾‾‾\n",
            "ncluster   =       4 /       8\n",
            "ndead      =                1420\n",
            "nposterior =                1420\n",
            "nequals    =                  30\n",
            "nlike      =              144567\n",
            "<nlike>    =         248.20   (          12.41 per slice )\n",
            "log(Z)     =        -1775.87 +/-  0.37\n",
            "log(Z_1)   =        -1776.84 +/-  0.42 (still evaluating)\n",
            "log(Z_2)   =        -1777.08 +/-  0.44 (still evaluating)\n",
            "log(Z_3)   =        -1777.75 +/-  0.49 (still evaluating)\n",
            "log(Z_4)   =        -1778.32 +/-  0.54 (still evaluating)\n",
            "log(Z_5)   =        -1779.03 +/-  0.73\n",
            "log(Z_6)   =        -1807.77 +/-  0.68\n",
            "log(Z_7)   =        -6103.21 +/-  0.77\n",
            "log(Z_8)   =        -8458.18 +/-  0.81\n",
            "\n",
            "\n",
            "\n",
            "Last dead point: [ 6.37537671e+01  3.23345657e-01  1.56293130e+02 -1.95562545e+01\n",
            "  1.75832098e+03  1.01931651e+00  2.82640870e-01  6.76654343e-01\n",
            " -1.76733874e+03 -1.75832098e+03]\n",
            "___________________________________\n",
            "lives      |  27 |   2 |  57 |  14 |\n",
            "phantoms   | 591 | 128 |1397 | 416 |\n",
            "posteriors |1236 |1126 |1180 |1133 |\n",
            "equals     |  33 |   5 |  24 |   5 |\n",
            "‾‾‾‾‾‾‾‾‾‾‾‾‾‾‾‾‾‾‾‾‾‾‾‾‾‾‾‾‾‾‾‾‾‾‾\n",
            "ncluster   =       4 /       8\n",
            "ndead      =                1532\n",
            "nposterior =                1532\n",
            "nequals    =                  51\n",
            "nlike      =              167215\n",
            "<nlike>    =         226.48   (          11.32 per slice )\n",
            "log(Z)     =        -1773.89 +/-  0.37\n",
            "log(Z_1)   =        -1774.86 +/-  0.43 (still evaluating)\n",
            "log(Z_2)   =        -1774.91 +/-  0.44 (still evaluating)\n",
            "log(Z_3)   =        -1776.06 +/-  0.52 (still evaluating)\n",
            "log(Z_4)   =        -1776.20 +/-  0.61 (still evaluating)\n",
            "log(Z_5)   =        -1779.03 +/-  0.73\n",
            "log(Z_6)   =        -1807.77 +/-  0.68\n",
            "log(Z_7)   =        -6103.21 +/-  0.77\n",
            "log(Z_8)   =        -8458.18 +/-  0.81\n",
            "\n",
            "\n",
            "\n",
            "Last dead point: [ 6.92973502e+01  3.19486502e-01  1.44372585e+02 -1.93734012e+01\n",
            "  1.75671945e+03  1.01838809e+00  2.91816456e-01  6.80513498e-01\n",
            " -1.75685008e+03 -1.75671945e+03]\n",
            "___________________________________\n",
            "lives      |   5 |  12 |  59 |  24 |\n",
            "phantoms   | 234 | 421 |1095 | 581 |\n",
            "posteriors |1268 |1152 |1201 |1202 |\n",
            "equals     |  38 |  16 |  33 |  32 |\n",
            "‾‾‾‾‾‾‾‾‾‾‾‾‾‾‾‾‾‾‾‾‾‾‾‾‾‾‾‾‾‾‾‾‾‾‾\n",
            "ncluster   =       4 /       9\n",
            "ndead      =                1628\n",
            "nposterior =                1628\n",
            "nequals    =                  64\n",
            "nlike      =              192420\n",
            "<nlike>    =         252.05   (          12.60 per slice )\n",
            "log(Z)     =        -1772.70 +/-  0.38\n",
            "log(Z_1)   =        -1773.81 +/-  0.45 (still evaluating)\n",
            "log(Z_2)   =        -1774.20 +/-  0.52 (still evaluating)\n",
            "log(Z_3)   =        -1774.34 +/-  0.44 (still evaluating)\n",
            "log(Z_4)   =        -1774.45 +/-  0.44 (still evaluating)\n",
            "log(Z_5)   =        -1775.87 +/-  0.62\n",
            "log(Z_6)   =        -1779.03 +/-  0.73\n",
            "log(Z_7)   =        -1807.77 +/-  0.68\n",
            "log(Z_8)   =        -6103.21 +/-  0.77\n",
            "log(Z_9)   =        -8458.18 +/-  0.81\n",
            "\n",
            "\n",
            "\n",
            "Last dead point: [ 6.93710788e+01  3.12461096e-01  1.45112474e+02 -1.93758908e+01\n",
            "  1.75592177e+03  1.01792566e+00  2.96439890e-01  6.87538904e-01\n",
            " -1.75632264e+03 -1.75592177e+03]\n",
            "___________________________________\n",
            "lives      |   3 |  83 |  11 |   3 |\n",
            "phantoms   | 229 |1698 | 236 | 254 |\n",
            "posteriors |1168 |1253 |1210 |1213 |\n",
            "equals     |  29 |  77 |  28 |  28 |\n",
            "‾‾‾‾‾‾‾‾‾‾‾‾‾‾‾‾‾‾‾‾‾‾‾‾‾‾‾‾‾‾‾‾‾‾‾\n",
            "ncluster   =       4 /      10\n",
            "ndead      =                1721\n",
            "nposterior =                1721\n",
            "nequals    =                 102\n",
            "nlike      =              212930\n",
            "<nlike>    =         205.10   (          10.26 per slice )\n",
            "log(Z)     =        -1772.11 +/-  0.39\n",
            "log(Z_1)   =        -1773.33 +/-  0.44 (still evaluating)\n",
            "log(Z_2)   =        -1773.63 +/-  0.54 (still evaluating)\n",
            "log(Z_3)   =        -1773.59 +/-  0.46\n",
            "log(Z_4)   =        -1774.34 +/-  0.45 (still evaluating)\n",
            "log(Z_5)   =        -1774.54 +/-  0.45 (still evaluating)\n",
            "log(Z_6)   =        -1775.87 +/-  0.62\n",
            "log(Z_7)   =        -1779.03 +/-  0.73\n",
            "log(Z_8)   =        -1807.77 +/-  0.68\n",
            "log(Z_9)   =        -6103.21 +/-  0.77\n",
            "log(Z_10)  =        -8458.18 +/-  0.81\n",
            "\n",
            "\n",
            "\n",
            "Last dead point: [ 7.08557849e+01  3.10435945e-01  1.42042202e+02 -1.93286609e+01\n",
            "  1.75538166e+03  1.01761256e+00  2.99590119e-01  6.89564055e-01\n",
            " -1.75549109e+03 -1.75538166e+03]\n",
            "_____________________________\n",
            "lives      |  91 |   8 |   1 |\n",
            "phantoms   |1703 | 258 | 155 |\n",
            "posteriors |1334 |1222 |1215 |\n",
            "equals     | 131 |  33 |  26 |\n",
            "‾‾‾‾‾‾‾‾‾‾‾‾‾‾‾‾‾‾‾‾‾‾‾‾‾‾‾‾‾\n",
            "ncluster   =       3 /      10\n",
            "ndead      =                1819\n",
            "nposterior =                1819\n",
            "nequals    =                 126\n",
            "nlike      =              226966\n",
            "<nlike>    =         140.36   (           7.02 per slice )\n",
            "log(Z)     =        -1771.85 +/-  0.40\n",
            "log(Z_1)   =        -1772.80 +/-  0.44 (still evaluating)\n",
            "log(Z_2)   =        -1773.54 +/-  0.54\n",
            "log(Z_3)   =        -1773.59 +/-  0.46\n",
            "log(Z_4)   =        -1774.11 +/-  0.45 (still evaluating)\n",
            "log(Z_5)   =        -1774.20 +/-  0.45 (still evaluating)\n",
            "log(Z_6)   =        -1775.87 +/-  0.62\n",
            "log(Z_7)   =        -1779.03 +/-  0.73\n",
            "log(Z_8)   =        -1807.77 +/-  0.68\n",
            "log(Z_9)   =        -6103.21 +/-  0.77\n",
            "log(Z_10)  =        -8458.18 +/-  0.81\n",
            "\n",
            "\n",
            "\n",
            "Last dead point: [ 6.78419731e+01  3.05457927e-01  1.48655447e+02 -1.94259262e+01\n",
            "  1.75511698e+03  1.01745912e+00  3.01139677e-01  6.94542073e-01\n",
            " -1.75525791e+03 -1.75511698e+03]\n",
            "_______________________\n",
            "lives      |  98 |   2 |\n",
            "phantoms   |1942 | 109 |\n",
            "posteriors |1413 |1228 |\n",
            "equals     | 161 |  36 |\n",
            "‾‾‾‾‾‾‾‾‾‾‾‾‾‾‾‾‾‾‾‾‾‾‾\n",
            "ncluster   =       2 /      11\n",
            "ndead      =                1909\n",
            "nposterior =                1909\n",
            "nequals    =                 124\n",
            "nlike      =              238930\n",
            "<nlike>    =         119.64   (           5.98 per slice )\n",
            "log(Z)     =        -1771.74 +/-  0.40\n",
            "log(Z_1)   =        -1772.59 +/-  0.44 (still evaluating)\n",
            "log(Z_2)   =        -1773.54 +/-  0.54\n",
            "log(Z_3)   =        -1773.59 +/-  0.46\n",
            "log(Z_4)   =        -1774.11 +/-  0.45\n",
            "log(Z_5)   =        -1774.29 +/-  0.46 (still evaluating)\n",
            "log(Z_6)   =        -1775.23 +/-  0.47\n",
            "log(Z_7)   =        -1775.87 +/-  0.62\n",
            "log(Z_8)   =        -1779.03 +/-  0.73\n",
            "log(Z_9)   =        -1807.77 +/-  0.68\n",
            "log(Z_10)  =        -6103.21 +/-  0.77\n",
            "log(Z_11)  =        -8458.18 +/-  0.81\n",
            "\n",
            "\n",
            "\n",
            "Last dead point: [ 6.88305930e+01  3.12887580e-01  1.45660738e+02 -1.93920568e+01\n",
            "  1.75492963e+03  1.01735051e+00  3.02238775e-01  6.87112420e-01\n",
            " -1.75499017e+03 -1.75492963e+03]\n",
            "_________________\n",
            "lives      | 100 |\n",
            "phantoms   |1871 |\n",
            "posteriors |1506 |\n",
            "equals     | 181 |\n",
            "‾‾‾‾‾‾‾‾‾‾‾‾‾‾‾‾‾\n",
            "ncluster   =       1 /      11\n",
            "ndead      =                2005\n",
            "nposterior =                2005\n",
            "nequals    =                 126\n",
            "nlike      =              248763\n",
            "<nlike>    =          98.33   (           4.92 per slice )\n",
            "log(Z)     =        -1771.69 +/-  0.40\n",
            "log(Z_1)   =        -1772.49 +/-  0.44 (still evaluating)\n",
            "log(Z_2)   =        -1773.54 +/-  0.54\n",
            "log(Z_3)   =        -1773.59 +/-  0.46\n",
            "log(Z_4)   =        -1774.11 +/-  0.45\n",
            "log(Z_5)   =        -1774.23 +/-  0.46\n",
            "log(Z_6)   =        -1775.23 +/-  0.47\n",
            "log(Z_7)   =        -1775.87 +/-  0.62\n",
            "log(Z_8)   =        -1779.03 +/-  0.73\n",
            "log(Z_9)   =        -1807.77 +/-  0.68\n",
            "log(Z_10)  =        -6103.21 +/-  0.77\n",
            "log(Z_11)  =        -8458.18 +/-  0.81\n",
            "\n",
            "\n",
            "\n",
            "Last dead point: [ 6.75146539e+01  3.11229448e-01  1.48757474e+02 -1.94331715e+01\n",
            "  1.75483607e+03  1.01729627e+00  3.02788336e-01  6.88770552e-01\n",
            " -1.75484549e+03 -1.75483607e+03]\n",
            "_______________________\n",
            "lives      |  96 |   4 |\n",
            "phantoms   |1924 | 165 |\n",
            "posteriors |1593 |1520 |\n",
            "equals     | 185 | 182 |\n",
            "‾‾‾‾‾‾‾‾‾‾‾‾‾‾‾‾‾‾‾‾‾‾‾\n",
            "ncluster   =       2 /      12\n",
            "ndead      =                2106\n",
            "nposterior =                2106\n",
            "nequals    =                 130\n",
            "nlike      =              261143\n",
            "<nlike>    =         123.80   (           6.19 per slice )\n",
            "log(Z)     =        -1771.67 +/-  0.40\n",
            "log(Z_1)   =        -1772.57 +/-  0.44 (still evaluating)\n",
            "log(Z_2)   =        -1773.54 +/-  0.54\n",
            "log(Z_3)   =        -1773.59 +/-  0.46\n",
            "log(Z_4)   =        -1774.11 +/-  0.45\n",
            "log(Z_5)   =        -1774.23 +/-  0.46\n",
            "log(Z_6)   =        -1774.59 +/-  0.45 (still evaluating)\n",
            "log(Z_7)   =        -1775.23 +/-  0.47\n",
            "log(Z_8)   =        -1775.87 +/-  0.62\n",
            "log(Z_9)   =        -1779.03 +/-  0.73\n",
            "log(Z_10)  =        -1807.77 +/-  0.68\n",
            "log(Z_11)  =        -6103.21 +/-  0.77\n",
            "log(Z_12)  =        -8458.18 +/-  0.81\n",
            "\n",
            "\n",
            "\n",
            "Last dead point: [ 6.75992699e+01  3.09731021e-01  1.48921807e+02 -1.94321801e+01\n",
            "  1.75477865e+03  1.01726298e+00  3.03125868e-01  6.90268979e-01\n",
            " -1.75483312e+03 -1.75477865e+03]\n",
            "_______________________\n",
            "lives      |   4 |  96 |\n",
            "phantoms   | 138 |2055 |\n",
            "posteriors |1602 |1678 |\n",
            "equals     | 185 | 188 |\n",
            "‾‾‾‾‾‾‾‾‾‾‾‾‾‾‾‾‾‾‾‾‾‾‾\n",
            "ncluster   =       2 /      13\n",
            "ndead      =                2204\n",
            "nposterior =                2204\n",
            "nequals    =                 131\n",
            "nlike      =              273881\n",
            "<nlike>    =         127.38   (           6.37 per slice )\n",
            "log(Z)     =        -1771.66 +/-  0.40\n",
            "log(Z_1)   =        -1772.61 +/-  0.44 (still evaluating)\n",
            "log(Z_2)   =        -1773.54 +/-  0.54\n",
            "log(Z_3)   =        -1773.59 +/-  0.46\n",
            "log(Z_4)   =        -1774.11 +/-  0.45\n",
            "log(Z_5)   =        -1774.23 +/-  0.46\n",
            "log(Z_6)   =        -1774.57 +/-  0.45\n",
            "log(Z_7)   =        -1775.23 +/-  0.47\n",
            "log(Z_8)   =        -1775.33 +/-  0.45 (still evaluating)\n",
            "log(Z_9)   =        -1775.87 +/-  0.62\n",
            "log(Z_10)  =        -1779.03 +/-  0.73\n",
            "log(Z_11)  =        -1807.77 +/-  0.68\n",
            "log(Z_12)  =        -6103.21 +/-  0.77\n",
            "log(Z_13)  =        -8458.18 +/-  0.81\n",
            "\n",
            "\n",
            "\n",
            "Last dead point: [ 6.89144836e+01  3.09018055e-01  1.46051324e+02 -1.93903649e+01\n",
            "  1.75473260e+03  1.01723629e+00  3.03396679e-01  6.90981945e-01\n",
            " -1.75489843e+03 -1.75473260e+03]\n",
            "_____________________________\n",
            "lives      |   1 |  96 |   3 |\n",
            "phantoms   |  79 |1896 |  43 |\n",
            "posteriors |1606 |1766 |1688 |\n",
            "equals     | 185 | 188 | 188 |\n",
            "‾‾‾‾‾‾‾‾‾‾‾‾‾‾‾‾‾‾‾‾‾‾‾‾‾‾‾‾‾\n",
            "ncluster   =       3 /      14\n",
            "ndead      =                2306\n",
            "nposterior =                2306\n",
            "nequals    =                 131\n",
            "nlike      =              286240\n",
            "<nlike>    =         123.59   (           6.18 per slice )\n",
            "log(Z)     =        -1771.66 +/-  0.40\n",
            "log(Z_1)   =        -1772.71 +/-  0.44 (still evaluating)\n",
            "log(Z_2)   =        -1773.54 +/-  0.54\n",
            "log(Z_3)   =        -1773.59 +/-  0.46\n",
            "log(Z_4)   =        -1774.11 +/-  0.45\n",
            "log(Z_5)   =        -1774.23 +/-  0.46\n",
            "log(Z_6)   =        -1774.57 +/-  0.45\n",
            "log(Z_7)   =        -1774.96 +/-  0.45 (still evaluating)\n",
            "log(Z_8)   =        -1775.23 +/-  0.47\n",
            "log(Z_9)   =        -1775.33 +/-  0.45 (still evaluating)\n",
            "log(Z_10)  =        -1775.87 +/-  0.62\n",
            "log(Z_11)  =        -1779.03 +/-  0.73\n",
            "log(Z_12)  =        -1807.77 +/-  0.68\n",
            "log(Z_13)  =        -6103.21 +/-  0.77\n",
            "log(Z_14)  =        -8458.18 +/-  0.81\n",
            "\n",
            "\n",
            "\n",
            "Last dead point: [ 6.81472082e+01  3.10393168e-01  1.47525285e+02 -1.94144184e+01\n",
            "  1.75467261e+03  1.01720152e+00  3.03749600e-01  6.89606832e-01\n",
            " -1.75476059e+03 -1.75467261e+03]\n",
            " ____________________________________________________ \n",
            "|                                                    |\n",
            "| ndead  =         2465                              |\n",
            "| log(Z) =        -1771.65711 +/-            0.40397 |\n",
            "|____________________________________________________|\n"
          ]
        }
      ],
      "source": [
        "outputTot = pypolychord.run_polychord(lnlikeTot, 4,4, settingsTot, uniprior, dumper)"
      ]
    },
    {
      "cell_type": "code",
      "execution_count": 54,
      "metadata": {
        "id": "k1YcuTv8WzF-"
      },
      "outputs": [
        {
          "name": "stderr",
          "output_type": "stream",
          "text": [
            "WARNING:root:outlier fraction 0.12017994858611825 \n"
          ]
        },
        {
          "name": "stdout",
          "output_type": "stream",
          "text": [
            "chains/CC + SNIa + BAO.txt\n",
            "Removed no burn in\n"
          ]
        }
      ],
      "source": [
        "paramnames = [('H0','H_{0}'),('Om', r'\\Omega_{m0}'),('rd','r_d (Mpc)'),('M',r'\\mathcal{M}'),('L',r'L'),('Ldof',r'L/Dof'),('p','p'),('Omega_Lambda', r'\\Omega_{\\Lambda0}')]\n",
        "outputTot.make_paramnames_files(paramnames)\n",
        "\n",
        "posteriorTot = outputTot.posterior"
      ]
    },
    {
      "cell_type": "code",
      "execution_count": 55,
      "metadata": {
        "id": "-n3KMtOUKWu_"
      },
      "outputs": [
        {
          "name": "stderr",
          "output_type": "stream",
          "text": [
            "WARNING:root:Parameters are 100% correlated: Om, Omega_Lambda\n"
          ]
        },
        {
          "data": {
            "image/png": "[encoded data removed]",
            "text/plain": [
              "<Figure size 1000x1000 with 15 Axes>"
            ]
          },
          "metadata": {},
          "output_type": "display_data"
        }
      ],
      "source": [
        "g = getdist.plots.getSubplotPlotter(width_inch=10.0)\n",
        "g.settings.figure_legend_frame = True  # Remove frame around the legend\n",
        "g.settings.alpha_filled_add = 0.6  # Adjust transparency of filled contours\n",
        "g.settings.title_limit_fontsize = 9 # Limit title fontsize to 14\n",
        "g.settings.axes_labelsize = 12  # Adjust label fontsize\n",
        "g.settings.legend_fontsize = 10  # Adjust legend fontsize\n",
        "g.settings.colorbar_axes_fontsize = 10  # Adjust colorbar fontsize\n",
        "g.triangle_plot([posteriorTot], ('H0','Om','Omega_Lambda','rd','M') ,filled=True, contour_colors=['darkblue'], legend_loc='upper right', legend_labels=[r'$\\Lambda$CDM Model'],title_limit=1)\n",
        "g.export(\"fig_1.pdf\")"
      ]
    },
    {
      "cell_type": "code",
      "execution_count": 57,
      "metadata": {
        "id": "IgfBzkl7mX2H"
      },
      "outputs": [
        {
          "name": "stdout",
          "output_type": "stream",
          "text": [
            "Tot\n",
            "H_{0} = 68.044859 +/- 2.946328 +/- 5.888328\n",
            "\\Omega_{m0} = 0.309685 +/- 0.005271 +/- 0.009447\n",
            "r_d (Mpc) = 148.090615 +/- 6.447757 +/- 10.654155\n",
            "\\mathcal{M} = -19.419623 +/- 0.094009 +/- 0.195150\n",
            "L = 1756.555497 +/- 1.218888 +/- 1.656820\n",
            "L/Dof = 1.018293 +/- 0.000707 +/- 0.000960\n",
            "p = 0.292817 +/- 0.006531 +/- 0.020597\n",
            "\\Omega_{\\Lambda0} = 0.690315 +/- 0.005261 +/- 0.010209\n"
          ]
        }
      ],
      "source": [
        "def get_constraints(samples):\n",
        "    for i, mean in enumerate(samples.getMeans()):\n",
        "        upper = samples.confidence(i, upper=True, limfrac=0.05)\n",
        "        #print(\"\\nupper limit 95 C.L. = %f\" % upper)\n",
        "        lower = samples.confidence(i, upper=False, limfrac=0.05)\n",
        "        #print(\"lower limit 95 C.L. = %f\" % lower)\n",
        "        print(\"%s = %f +/- %f +/- %f\" % (samples.parLabel(i),\\\n",
        "\n",
        "        mean, mean - samples.confidence(i, limfrac=0.16),\\\n",
        "        mean - samples.confidence(i, limfrac=0.025)) )\n",
        "    return\n",
        "for i in [\"Tot\"]:\n",
        "    print(i)\n",
        "    get_constraints(eval(\"posterior\"+i))"
      ]
    }
  ],
  "metadata": {
    "colab": {
      "provenance": [],
      "toc_visible": true
    },
    "kernelspec": {
      "display_name": "polychord_env",
      "language": "python",
      "name": "python3"
    },
    "language_info": {
      "codemirror_mode": {
        "name": "ipython",
        "version": 3
      },
      "file_extension": ".py",
      "mimetype": "text/x-python",
      "name": "python",
      "nbconvert_exporter": "python",
      "pygments_lexer": "ipython3",
      "version": "3.10.17"
    }
  },
  "nbformat": 4,
  "nbformat_minor": 0
}
