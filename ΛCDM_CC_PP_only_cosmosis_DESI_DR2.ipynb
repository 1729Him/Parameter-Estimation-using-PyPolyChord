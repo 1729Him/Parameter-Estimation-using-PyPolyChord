{
  "cells": [
    {
      "cell_type": "code",
      "execution_count": 4,
      "metadata": {
        "id": "iLPvCMxh2PJJ"
      },
      "outputs": [],
      "source": [
        "from numpy import pi, log, sqrt \n",
        "import getdist\n",
        "import numpy as np\n",
        "from io import StringIO\n",
        "from getdist import plots, MCSamples\n",
        "import random\n",
        "from scipy.integrate import quad\n",
        "from scipy.integrate import odeint\n",
        "import scipy.integrate as integrate\n",
        "import matplotlib.pyplot as plt\n",
        "from scipy import stats\n",
        "import pypolychord\n",
        "from pypolychord.settings import PolyChordSettings\n",
        "from pypolychord.priors import UniformPrior, GaussianPrior\n",
        "import scipy.optimize as op\n",
        "from numpy.linalg import inv\n",
        "from mpi4py import MPI\n",
        "import sympy as sp\n",
        "import scipy.linalg as la\n",
        "import pandas as pd"
      ]
    },
    {
      "cell_type": "markdown",
      "metadata": {},
      "source": [
        "# Cosmic Chronometers Dataset with Full Covariance\n",
        "\n",
        "**Source:** [https://gitlab.com/mmoresco/CCcovariance](https://gitlab.com/mmoresco/CCcovariance)\n",
        "\n",
        "### Description\n",
        "\n",
        "This analysis utilizes the Cosmic Chronometers (CC) dataset with the full covariance matrix and prepares the likelihood function for cosmological parameter estimation.\n",
        "\n",
        "### Citation Guidelines\n",
        "\n",
        "If you use this dataset, please cite the following foundational works by Prof. Dr. Moresco:\n",
        "\n",
        "- Moresco et al. (2016), [arXiv:1804.05864](https://doi.org/10.48550/arXiv.1804.05864)  \n",
        "- Moresco (2020), [arXiv:2003.07362](https://doi.org/10.48550/arXiv.2003.07362)  \n",
        "\n",
        "Additionally, when using the same data, please acknowledge these important references:\n",
        "\n",
        "- Simon et al. (2005), [arXiv:1201.3609](https://doi.org/10.48550/arXiv.1201.3609)  \n",
        "- Stern et al. (2010), [arXiv:1503.01116](https://doi.org/10.48550/arXiv.1503.01116)  \n",
        "- Moresco et al. (2012), [arXiv:1601.01701](https://doi.org/10.48550/arXiv.1601.01701)  "
      ]
    },
    {
      "cell_type": "code",
      "execution_count": 5,
      "metadata": {
        "id": "JvevdJzI6bX6"
      },
      "outputs": [],
      "source": [
        "#Load CC dataset and Build Full Covariance Matrix\n",
        "filename = 'data/HzTable_MM_BC03.dat'\n",
        "z, Hz, errHz = np.genfromtxt(filename, comments='#', usecols=(0,1,2), unpack=True, delimiter=',')\n",
        "ref = np.genfromtxt(filename, comments='#', usecols=(3), unpack=True, dtype=str, delimiter=',')\n",
        "\n",
        "\n",
        "filename = 'data/data_MM20.dat'\n",
        "zmod, imf, slib, sps, spsooo = np.genfromtxt(filename, comments='#', usecols=(0,1,2,3,4), unpack=True)\n",
        "\n",
        "cov_mat_diag = np.zeros((len(z), len(z)), dtype='float64')\n",
        "\n",
        "for i in range(len(z)):\n",
        "\tcov_mat_diag[i,i] = errHz[i]**2\n",
        "\n",
        "imf_intp = np.interp(z, zmod, imf)/100\n",
        "slib_intp = np.interp(z, zmod, slib)/100\n",
        "sps_intp = np.interp(z, zmod, sps)/100\n",
        "spsooo_intp = np.interp(z, zmod, spsooo)/100\n",
        "\n",
        "cov_mat_imf = np.zeros((len(z), len(z)), dtype='float64')\n",
        "cov_mat_slib = np.zeros((len(z), len(z)), dtype='float64')\n",
        "cov_mat_sps = np.zeros((len(z), len(z)), dtype='float64')\n",
        "cov_mat_spsooo = np.zeros((len(z), len(z)), dtype='float64')\n",
        "\n",
        "for i in range(len(z)):\n",
        "\tfor j in range(len(z)):\n",
        "\t\tcov_mat_imf[i,j] = Hz[i] * imf_intp[i] * Hz[j] * imf_intp[j]\n",
        "\t\tcov_mat_slib[i,j] = Hz[i] * slib_intp[i] * Hz[j] * slib_intp[j]\n",
        "\t\tcov_mat_sps[i,j] = Hz[i] * sps_intp[i] * Hz[j] * sps_intp[j]\n",
        "\t\tcov_mat_spsooo[i,j] = Hz[i] * spsooo_intp[i] * Hz[j] * spsooo_intp[j]\n",
        "\n",
        "\n",
        "cov_mat = cov_mat_spsooo+cov_mat_imf+cov_mat_diag\n",
        "inv_cov_mat = inv(cov_mat)\n",
        "\n",
        "cov_mat_cc = inv_cov_mat"
      ]
    },
    {
      "cell_type": "markdown",
      "metadata": {},
      "source": [
        "# PantheonPlus Dataset (CosmoSIS Likelihood)\n",
        "\n",
        "**Source Link:** [Pantheon+ CosmoSIS Likelihood Script](https://github.com/PantheonPlusSH0ES/DataRelease/blob/main/Pantheon%2B_Data/5_COSMOLOGY/cosmosis_likelihoods/Pantheon%2B_only_cosmosis_likelihood.py)  \n",
        "**Dataset Link:** [Pantheon+ Distances and Covariance](https://github.com/PantheonPlusSH0ES/DataRelease/tree/main/Pantheon%2B_Data/4_DISTANCES_AND_COVAR)\n",
        "\n",
        "### Description\n",
        "\n",
        "This analysis utilizes the full **STAT+SYS** covariance matrix provided in the PantheonPlus data release to construct a supernova likelihood. The approach follows the CosmoSIS likelihood format and incorporates both statistical and systematic uncertainties in the SN Ia light curves.\n",
        "\n",
        "### Citation Guidelines\n",
        "\n",
        "If you use this dataset or the associated likelihood script in your research, please cite the following key works:\n",
        "\n",
        "- **Pantheon+ Compilation and Analysis Methodology:**\n",
        "  - Brout et al. (2022), [arXiv:2112.03863](https://doi.org/10.48550/arXiv.2112.03863)\n",
        "  - Scolnic et al. (2022), [arXiv:2202.04077](https://doi.org/10.48550/arXiv.2202.04077)\n",
        "\n",
        "- **Covariance Matrix Construction:**\n",
        "  - Conley et al. (2011), [arXiv:1104.1443](https://doi.org/10.48550/arXiv.1104.1443)"
      ]
    },
    {
      "cell_type": "code",
      "execution_count": 6,
      "metadata": {},
      "outputs": [],
      "source": [
        "#Load Pantheonplus dataset and Build the Covariance Matrix\n",
        "values_filename = 'data/Pantheon+SH0ES.dat'\n",
        "cov_filename = 'data/Pantheon+SH0ES_STAT+SYS.cov'\n",
        "\n",
        "data = pd.read_csv(values_filename, sep=r'\\s+')\n",
        "origlen = len(data)\n",
        "ww = (data['zHD'] > 0.01)  # Filter condition for zHD > 0.01\n",
        "zcmb = data['zHD'][ww].values  # vpec corrected redshift (zCMB)\n",
        "zhelio = data['zHEL'][ww].values  # Heliocentric redshift\n",
        "mag = data['m_b_corr'][ww].values  # Corrected magnitudes\n",
        "N = len(mag)\n",
        "\n",
        "filename = cov_filename\n",
        "#print(\"Loading covariance from {}\".format(filename))\n",
        "f = open(filename)\n",
        "line = f.readline()\n",
        "n = int(len(zcmb))\n",
        "C = np.zeros((n,n))\n",
        "ii = -1\n",
        "jj = -1\n",
        "mine = 999\n",
        "maxe = -999\n",
        "for i in range(origlen):\n",
        "    jj = -1\n",
        "    if ww[i]:\n",
        "        ii += 1\n",
        "    for j in range(origlen):\n",
        "        if ww[j]:\n",
        "            jj += 1\n",
        "        val = float(f.readline())\n",
        "        if ww[i]:\n",
        "            if ww[j]:\n",
        "                C[ii,jj] = val\n",
        "\n",
        "f.close()\n",
        "#print('Done')\n",
        "cov = C\n",
        "xdiag = 1/cov.diagonal()  # diagonal before marginalising constant\n",
        "cov += 3**2\n",
        "zmin = zcmb.min()\n",
        "zmax = zcmb.max()\n",
        "zmaxi = 1.1 ## we interpolate to 1.1 beyond that exact calc\n",
        "#print(\"Pantheon SN: zmin=%f zmax=%f N=%i\" % (zmin, zmax, N))\n",
        "ninterp=150\n",
        "zinter = np.linspace(1e-3, zmaxi, ninterp)\n",
        "icov = la.inv(cov)"
      ]
    },
    {
      "cell_type": "markdown",
      "metadata": {},
      "source": [
        "# DESI DR2 Dataset with Full Covariance\n",
        "\n",
        "**Source of Dataset:**  \n",
        "[DESI BAO Data - GitHub (CobayaSampler)](https://github.com/CobayaSampler/bao_data)\n",
        "\n",
        "### Description\n",
        "\n",
        "This analysis utilizes incorporates the **DESI Data Release 2 (DR2)** dataset, which includes baryon acoustic oscillation (BAO) measurements derived from over 14 million galaxies and quasars. The full covariance matrix is used in the likelihood analysis to properly account for measurement uncertainties and correlations between data points.\n",
        "\n",
        "The dataset is made publicly available and formatted for direct use in cosmological inference frameworks such as [Cobaya](https://cobaya.readthedocs.io/) and [CosmoMC](https://cosmologist.info/cosmomc/).\n",
        "\n",
        "### Citation Guidelines\n",
        "\n",
        "If you use this dataset in your work, please cite the following:\n",
        "\n",
        "- **DESI Collaboration (2024)**  \n",
        "  _The completed DR2 BAO analysis methodology and results_  \n",
        "  [arXiv:2503.14738](https://doi.org/10.48550/arXiv.2503.14738)"
      ]
    },
    {
      "cell_type": "code",
      "execution_count": null,
      "metadata": {
        "colab": {
          "base_uri": "https://localhost:8080/"
        },
        "id": "ANNRA5UV2PJK",
        "outputId": "2fd7f146-5000-4d7f-9051-62ec97bb3e34"
      },
      "outputs": [
        {
          "name": "stdout",
          "output_type": "stream",
          "text": [
            "['DVrd' 'DMrd' 'DHrd' 'DMrd' 'DHrd' 'DMrd' 'DHrd' 'DMrd' 'DHrd' 'DMrd'\n",
            " 'DHrd' 'DHrd' 'DMrd']\n"
          ]
        }
      ],
      "source": [
        "#loading BAO dataset with Covarinace matrix\n",
        "dirBD= \"data/desi_gaussian_bao_ALL_GCcomb_mean.txt\"\n",
        "BaoData = np.genfromtxt(dirBD)\n",
        "xarr = np.array(BaoData[:,0])\n",
        "yarr = np.array(BaoData[:,1])\n",
        "\n",
        "funarr = np.genfromtxt(dirBD,dtype='str')[:,2]\n",
        "print(funarr)\n",
        "\n",
        "def modelArr(name):\n",
        "    mod = []\n",
        "\n",
        "    for j in range(len(funarr)):\n",
        "        if (funarr[j] == name):\n",
        "             mod.append([xarr[j],yarr[j]])\n",
        "    mod = np.array(mod)\n",
        "    mod = mod[np.argsort(mod[:,0])]\n",
        "    return mod\n",
        "\n",
        "cov_bao = np.loadtxt(\"data/desi_gaussian_bao_ALL_GCcomb_cov.txt\")  \n",
        "cov_bao_inv = np.linalg.inv(cov_bao)"
      ]
    },
    {
      "cell_type": "markdown",
      "metadata": {},
      "source": [
        "1. **Define the normalized Hubble function** $E(\\theta, z)$:\n",
        "\n",
        "$$\n",
        "E(z) = \\sqrt{\\Omega_m (1 + z)^3 + (1 - \\Omega_m)}\n",
        "$$\n",
        "\n",
        "2. **The Hubble function** $H(\\theta, z)$:\n",
        "\n",
        "$$\n",
        "H(z) = H_0 \\times E(z)\n",
        "$$\n"
      ]
    },
    {
      "cell_type": "code",
      "execution_count": null,
      "metadata": {
        "colab": {
          "base_uri": "https://localhost:8080/"
        },
        "id": "LaF26ZrX2PJL",
        "outputId": "8694a683-9a0d-4bc2-fb52-0140d6f47ed8"
      },
      "outputs": [
        {
          "data": {
            "text/plain": [
              "array([120.6      , 204.5421228, 308.2      ])"
            ]
          },
          "execution_count": 94,
          "metadata": {},
          "output_type": "execute_result"
        }
      ],
      "source": [
        "#H functions\n",
        "c = 299792.458\n",
        "\n",
        "def E(theta,z):\n",
        "    H0, Om, rd, M = theta\n",
        "    OL = 1 - Om\n",
        "    return np.sqrt(Om*(1+z)**3 + OL)\n",
        "\n",
        "def H(theta,z):\n",
        "    H0, Om, rd, M = theta\n",
        "    arr = []\n",
        "    for j in range(len(z)):\n",
        "        arr.append(H0*E(theta,z[j]))\n",
        "    arr = np.array(arr)\n",
        "    return arr\n",
        "\n",
        "H([67,0.32,147,-19],[1,2,3])"
      ]
    },
    {
      "cell_type": "markdown",
      "metadata": {},
      "source": [
        "3. The comoving distance function $D_H(\\theta, z)$:\n",
        "\n",
        "$$\n",
        "D_H(z) = \\frac{c}{H(z)}\n",
        "$$\n",
        "\n",
        "4. The comoving distance scaled by the sound horizon:\n",
        "\n",
        "$$\n",
        "\\frac{D_H(z)}{r_d} = \\frac{c}{H(z) \\times r_d}\n",
        "$$\n"
      ]
    },
    {
      "cell_type": "code",
      "execution_count": null,
      "metadata": {
        "colab": {
          "base_uri": "https://localhost:8080/"
        },
        "id": "F-u1L32w2PJL",
        "outputId": "512c922d-58fd-4d6d-ce1a-0eb61cf01b60"
      },
      "outputs": [
        {
          "data": {
            "text/plain": [
              "array([16.91048488,  9.97058429,  6.61714626])"
            ]
          },
          "execution_count": 40,
          "metadata": {},
          "output_type": "execute_result"
        }
      ],
      "source": [
        "#DH functions\n",
        "def DH(theta,z):\n",
        "    H0, Om, rd, M = theta\n",
        "    arr = []\n",
        "    for j in range(len(z)):\n",
        "        arr.append(c/(H0*E(theta,z[j])))\n",
        "    arr = np.array(arr)\n",
        "    return arr\n",
        "\n",
        "def DHrd(theta,z):\n",
        "    H0, Om, rd, M = theta\n",
        "    arr = []\n",
        "\n",
        "    for j in range(len(z)):\n",
        "        arr.append(c/(H0*E(theta,z[j])*rd))\n",
        "    arr = np.array(arr)\n",
        "    return arr\n",
        "\n",
        "DHrd([67,0.32,147,-19],[1,2,3])"
      ]
    },
    {
      "cell_type": "markdown",
      "metadata": {},
      "source": [
        "The Sk function $S_k(\\theta, x)$:\n",
        "\n",
        "$$\n",
        "S_k(x) = \n",
        "\\begin{cases} \n",
        "\\frac{\\sin\\left(\\sqrt{-\\Omega_k} \\, x\\right)}{\\sqrt{-\\Omega_k}} & \\text{if } \\Omega_k < -10^{-15} \\\\\n",
        "\\frac{\\sinh\\left(\\sqrt{\\Omega_k} \\, x\\right)}{\\sqrt{\\Omega_k}} & \\text{if } \\Omega_k > 10^{-15} \\\\\n",
        "x & \\text{if } \\Omega_k = 0\n",
        "\\end{cases}\n",
        "$$\n",
        "\n",
        "Where:\n",
        "\n",
        "* $\\Omega_k$ is the curvature parameter (based on the `Ok` variable in your function).\n",
        "* $x$ is the input variable in the function.\n",
        "\n",
        "This function evaluates different cases based on the sign and magnitude of $\\Omega_k$ (denoted as `Ok`), using either the sine or hyperbolic sine functions, or returning $x$ when $\\Omega_k = 0$.\n"
      ]
    },
    {
      "cell_type": "code",
      "execution_count": null,
      "metadata": {
        "id": "68gJ1AFI2PJL"
      },
      "outputs": [],
      "source": [
        "def Sk(theta,x):\n",
        "    H0, Om, rd, M = theta\n",
        "    Ok =0\n",
        "    if Ok < -10**(-15):\n",
        "        return np.sin(np.sqrt(-Ok)*x)/np.sqrt(-Ok)\n",
        "    #if Ok == 0:\n",
        "    #    return x\n",
        "    elif Ok > 10**(-15):\n",
        "        return np.sinh(np.sqrt(Ok)*x)/np.sqrt(Ok)\n",
        "    else:\n",
        "        return x"
      ]
    },
    {
      "cell_type": "markdown",
      "metadata": {},
      "source": [
        "**Derivative of $\\chi$ with respect to $z$** :\n",
        "\n",
        "$$\n",
        "\\frac{d\\chi}{dz} = \\frac{1}{E(\\theta, z)}\n",
        "$$\n",
        "\n",
        "**Integral of $\\chi$** :\n",
        "\n",
        "$$\n",
        "\\chi(z) = \\int_0^z \\frac{dz'}{E(\\theta, z')}\n",
        "$$\n"
      ]
    },
    {
      "cell_type": "code",
      "execution_count": null,
      "metadata": {
        "colab": {
          "base_uri": "https://localhost:8080/"
        },
        "id": "HwOl9Gip2PJL",
        "outputId": "7a3d4f0c-219c-4c8d-ac3d-d6b9717ed23f"
      },
      "outputs": [
        {
          "data": {
            "text/plain": [
              "array([0.7624812 , 1.18936468, 1.45585048])"
            ]
          },
          "execution_count": 42,
          "metadata": {},
          "output_type": "execute_result"
        }
      ],
      "source": [
        "# function that returns dDC/dz,df/dz\n",
        "def dchidz(x,z, H0, Om, rd, M):\n",
        "    return 1/E([H0, Om, rd, M],z)\n",
        "\n",
        "def chiInt(theta,z):\n",
        "    H0, Om, rd, M = theta\n",
        "    z = np.hstack((np.array((0)), z))\n",
        "    arr = odeint(dchidz,0,z,args=(H0, Om, rd, M,))\n",
        "    return np.delete(arr ,0)\n",
        "\n",
        "chiInt([67,0.32,147,-19],[1,2,3])"
      ]
    },
    {
      "cell_type": "markdown",
      "metadata": {},
      "source": [
        "5. The comoving distance function $D_H(\\theta, z)$:\n",
        "\n",
        "$$\n",
        "D_H(z) = \\frac{c}{H(z)}\n",
        "$$\n",
        "\n",
        "6. The comoving distance scaled by the sound horizon:\n",
        "\n",
        "$$\n",
        "\\frac{D_H(z)}{r_d} = \\frac{c}{H(z) \\times r_d}\n",
        "$$\n"
      ]
    },
    {
      "cell_type": "code",
      "execution_count": null,
      "metadata": {
        "colab": {
          "base_uri": "https://localhost:8080/"
        },
        "id": "NUU2xsw22PJL",
        "outputId": "6ed9a582-8c02-40bf-cc73-f280793adef5"
      },
      "outputs": [
        {
          "data": {
            "text/plain": [
              "array([23.20906838, 36.20292027, 44.31444763])"
            ]
          },
          "execution_count": 43,
          "metadata": {},
          "output_type": "execute_result"
        }
      ],
      "source": [
        "#DM\n",
        "\n",
        "def DM(theta,z):\n",
        "    H0, Om, rd, M = theta\n",
        "    chi = chiInt(theta,z)\n",
        "\n",
        "    arr = []\n",
        "\n",
        "    for i in range(len(z)):\n",
        "        arr.append(c*Sk(theta,chi[i])/H0)\n",
        "    arr = np.array(arr)\n",
        "    arr.shape\n",
        "    return arr\n",
        "\n",
        "def DMrd(theta,z):\n",
        "    H0, Om, rd, M = theta\n",
        "    chi = chiInt(theta,z)\n",
        "\n",
        "    arr = []\n",
        "\n",
        "    for i in range(len(z)):\n",
        "        arr.append(c*Sk(theta,chi[i])/(H0*rd))\n",
        "    arr = np.array(arr)\n",
        "    arr.shape\n",
        "    return arr\n",
        "\n",
        "DMrd([67,0.32,147,-19],[1,2,3])"
      ]
    },
    {
      "cell_type": "markdown",
      "metadata": {},
      "source": [
        "7. The comoving distance function $D_H(\\theta, z)$:\n",
        "\n",
        "$$\n",
        "D_H(z) = \\frac{c}{H(z)}\n",
        "$$\n",
        "\n",
        "8. The comoving distance scaled by the sound horizon:\n",
        "\n",
        "$$\n",
        "\\frac{D_H(z)}{r_d} = \\frac{c}{H(z) \\times r_d}\n",
        "$$\n"
      ]
    },
    {
      "cell_type": "code",
      "execution_count": null,
      "metadata": {
        "colab": {
          "base_uri": "https://localhost:8080/"
        },
        "id": "Iywjivhu2PJM",
        "outputId": "4d91b19d-797a-4939-f84d-1608d1edcf44"
      },
      "outputs": [
        {
          "data": {
            "text/plain": [
              "array([ 8.09489205, 12.88345356, 31.38816821])"
            ]
          },
          "execution_count": 44,
          "metadata": {},
          "output_type": "execute_result"
        }
      ],
      "source": [
        "#DV\n",
        "\n",
        "def DV(theta,z):\n",
        "    H0, Om, rd, M = theta\n",
        "    dh = DH(theta,z)\n",
        "    dm = DM(theta,z)\n",
        "    arr = []\n",
        "\n",
        "    for i in range(len(z)):\n",
        "        arr.append(np.cbrt(z[i]*dh[i]*dm[i]**2))\n",
        "    arr = np.array(arr)\n",
        "    arr.shape\n",
        "    return arr\n",
        "\n",
        "def DVrd(theta,z):\n",
        "\n",
        "    H0, Om, rd, M = theta\n",
        "\n",
        "    dh = DH(theta,z)\n",
        "    dm = DM(theta,z)\n",
        "    arr = []\n",
        "\n",
        "    for i in range(len(z)):\n",
        "        arr.append(np.cbrt(z[i]*dh[i]*dm[i]**2)/rd)\n",
        "    arr = np.array(arr)\n",
        "    arr.shape\n",
        "    return arr\n",
        "\n",
        "DVrd([67,0.32,147,-19],[0.295,0.510,2.330])"
      ]
    },
    {
      "cell_type": "code",
      "execution_count": null,
      "metadata": {
        "id": "x2D3qSLQ2PJM"
      },
      "outputs": [],
      "source": [
        "def DL(theta,z):\n",
        "    H0, Om, rd, M = theta\n",
        "    chi = chiInt(theta,z)\n",
        "    return c*chi/H0\n",
        "\n",
        "def mu(theta,z):\n",
        "    H0, Om, rd, M = theta\n",
        "    dL = DL(theta,z)\n",
        "    mu = []\n",
        "\n",
        "    for i in range(len(z)):\n",
        "        mu.append(5*np.log10(dL[i]*(1+z[i])) + 25 + M)\n",
        "    mu = np.array(mu)\n",
        "    mu.shape\n",
        "    return mu"
      ]
    },
    {
      "cell_type": "code",
      "execution_count": null,
      "metadata": {
        "id": "kBOAAHm2cLZv"
      },
      "outputs": [],
      "source": [
        "def Omega_Lambda(theta):\n",
        "    H0, Om, rd, M = theta\n",
        "    OL = 1 - Om\n",
        "    return OL"
      ]
    },
    {
      "cell_type": "code",
      "execution_count": null,
      "metadata": {
        "colab": {
          "base_uri": "https://localhost:8080/"
        },
        "id": "CWPnp7ta6ffr",
        "outputId": "d14fedc5-cad2-45d3-eb16-f7fe9191d1da"
      },
      "outputs": [
        {
          "name": "stdout",
          "output_type": "stream",
          "text": [
            "(np.float64(-6.183367402883179), [15, np.float64(0.5621243093530163), np.float64(0.8608533971088996), 0.6799999999999999])\n"
          ]
        }
      ],
      "source": [
        "def lnlike(theta,model,z,Hz,cov_mat_cc):\n",
        "    prediction = model(theta,z)\n",
        "    residualcc = prediction - Hz\n",
        "    chi2 = residualcc.T @ cov_mat_cc @ residualcc\n",
        "    return chi2\n",
        "\n",
        "def lnlikeCC(theta):\n",
        "    chi = 0; i = 0\n",
        "    chi += lnlike(theta, H, z, Hz, cov_mat_cc)\n",
        "    i += len(z)\n",
        "    OL = Omega_Lambda(theta)\n",
        "    return -chi, [i, chi/(i-len(theta)),1-stats.chi2.cdf(x=chi, df=(i-len(theta))),OL]\n",
        "\n",
        "print(lnlikeCC([67,0.32,147,-19]))"
      ]
    },
    {
      "cell_type": "code",
      "execution_count": null,
      "metadata": {
        "colab": {
          "base_uri": "https://localhost:8080/"
        },
        "id": "P2bmuSJz2PJN",
        "outputId": "109e505e-bea5-4e4f-8fed-f4b6f65e624f"
      },
      "outputs": [
        {
          "name": "stdout",
          "output_type": "stream",
          "text": [
            "40.55527665589692\n"
          ]
        }
      ],
      "source": [
        "# likelihood with covariance matrix\n",
        "def lnlikecov(theta, model, x, y, cov):\n",
        "    prediction = []\n",
        "\n",
        "    for i in range(len(model)):\n",
        "        fun = model[i]\n",
        "        prediction.append(eval(fun)(theta, [x[i]]))\n",
        "    prediction = np.array(prediction)[:, 0]\n",
        "    vec = (prediction - y)\n",
        "    result = np.dot(np.dot(vec, cov), vec.T)\n",
        "    return result\n",
        "\n",
        "print(lnlikecov([67, 0.32, 147, -19], funarr, np.array(BaoData[:, 0]), np.array(BaoData[:, 1]), cov_bao_inv))"
      ]
    },
    {
      "cell_type": "code",
      "execution_count": null,
      "metadata": {},
      "outputs": [
        {
          "data": {
            "text/plain": [
              "(np.float64(-40.55527665589692),\n",
              " [np.float64(40.55527665589692),\n",
              "  np.float64(4.506141850655213),\n",
              "  np.float64(6.0255719672719366e-06),\n",
              "  0.6799999999999999])"
            ]
          },
          "execution_count": 49,
          "metadata": {},
          "output_type": "execute_result"
        }
      ],
      "source": [
        "def lnlikeBAO(theta):\n",
        "    x = np.array(BaoData[:, 0])\n",
        "    y = np.array(BaoData[:, 1])\n",
        "\n",
        "    # Use your manually loaded inverse covariance matrix\n",
        "    chi = lnlikecov(theta, funarr, x, y, cov_bao_inv)\n",
        "    i = len(x)\n",
        "    OL = Omega_Lambda(theta)\n",
        "    return -chi, [chi, chi / (i - len(theta)), 1 - stats.chi2.cdf(x=chi, df=(i - len(theta))), OL]\n",
        "\n",
        "lnlikeBAO([67,0.32,147,-19])"
      ]
    },
    {
      "cell_type": "code",
      "execution_count": null,
      "metadata": {
        "colab": {
          "base_uri": "https://localhost:8080/"
        },
        "id": "waY_QiUk2PJN",
        "outputId": "b7706e9f-dc8a-44a2-8180-e26cf1e963ee"
      },
      "outputs": [
        {
          "name": "stdout",
          "output_type": "stream",
          "text": [
            "(np.float64(-1404.0729915402674), [np.float64(1404.0729915402674), np.float64(0.8852919240480879), np.float64(0.9995970365291555), 0.6799999999999999])\n"
          ]
        }
      ],
      "source": [
        "def A(theta, x, y, icov):\n",
        "    Mu = mu(theta, x)\n",
        "    residual = y - Mu\n",
        "    chi2 = residual.T @ icov @ residual\n",
        "    return chi2\n",
        "\n",
        "def lnlikeSNIa(theta):\n",
        "    chi = A(theta, zcmb, mag, icov)\n",
        "    i = len(zcmb)\n",
        "    OL = Omega_Lambda(theta)\n",
        "    return -chi, [chi, chi/(i-len(theta)),1-stats.chi2.cdf(x=chi, df=(i-len(theta))),OL]\n",
        "\n",
        "print(lnlikeSNIa([67,0.32,147,-19]))"
      ]
    },
    {
      "cell_type": "code",
      "execution_count": null,
      "metadata": {
        "colab": {
          "base_uri": "https://localhost:8080/"
        },
        "id": "ov9mCfXwZet_",
        "outputId": "3d19f439-084d-490b-adb8-e727c465ce94"
      },
      "outputs": [
        {
          "name": "stdout",
          "output_type": "stream",
          "text": [
            "(np.float64(-1450.8116355990473), [np.float64(1450.8116355990473), np.float64(0.8988919675334865), np.float64(0.9984785063048669), 0.6799999999999999])\n"
          ]
        }
      ],
      "source": [
        "def lnlikeTot(theta):\n",
        "\n",
        "    chi = lnlikecov(theta, funarr, np.array(BaoData[:, 0]), np.array(BaoData[:, 1]), cov_bao_inv)\n",
        "    i = len(BaoData[:, 0])\n",
        "    chi += lnlike(theta, H, z, Hz, cov_mat_cc); i += len(z)\n",
        "    chi += A(theta, zcmb, mag, icov);i += len(zcmb)\n",
        "    OL = Omega_Lambda(theta)\n",
        "    return -chi, [chi, chi/(i-len(theta)), 1 - stats.chi2.cdf(x=chi, df=(i-len(theta))),OL]\n",
        "\n",
        "print(lnlikeTot([67,0.32,147,-19]))"
      ]
    },
    {
      "cell_type": "code",
      "execution_count": null,
      "metadata": {
        "id": "M4Uvdrfe2PJN"
      },
      "outputs": [],
      "source": [
        "runs = 100"
      ]
    },
    {
      "cell_type": "code",
      "execution_count": null,
      "metadata": {
        "id": "ARypjowZ2PJN"
      },
      "outputs": [],
      "source": [
        "def dumper(live, dead, logweights, logZ, logZerr):\n",
        "    print(\"Last dead point:\", dead[-1])"
      ]
    },
    {
      "cell_type": "code",
      "execution_count": null,
      "metadata": {
        "id": "UaxFjHKm2PJN"
      },
      "outputs": [],
      "source": [
        "def uniprior(hypercube):\n",
        "    prior = []\n",
        "    prior.append(UniformPrior(50.,100.)(hypercube[0]))\n",
        "    prior.append(UniformPrior(0.,1.)(hypercube[1]))\n",
        "    prior.append(UniformPrior(100.,200.)(hypercube[2]))\n",
        "    prior.append(GaussianPrior(-19.00,0.57)(hypercube[3]))\n",
        "    return prior"
      ]
    },
    {
      "cell_type": "code",
      "execution_count": null,
      "metadata": {
        "id": "VBy9WI7Q2PJN"
      },
      "outputs": [],
      "source": [
        "settingsTot = PolyChordSettings(4,4)\n",
        "settingsTot.file_root = 'CC + SNIa + BAO'\n",
        "settingsTot.nlive = runs\n",
        "settingsTot.do_clustering = True\n",
        "settingsTot.read_resume = False"
      ]
    },
    {
      "cell_type": "code",
      "execution_count": null,
      "metadata": {
        "id": "J5ScIJle2PJO"
      },
      "outputs": [
        {
          "name": "stdout",
          "output_type": "stream",
          "text": [
            "PolyChord: MPI is already initilised, not initialising, and will not finalize\n",
            "\n",
            "PolyChord: Next Generation Nested Sampling\n",
            "copyright: Will Handley, Mike Hobson & Anthony Lasenby\n",
            "  version: 1.22.1\n",
            "  release: 10th Jan 2024\n",
            "    email: wh260@mrao.cam.ac.uk\n",
            "\n",
            "Run Settings\n",
            "nlive    :     100\n",
            "nDims    :       4\n",
            "nDerived :       4\n",
            "Doing Clustering\n",
            "Synchronous parallelisation\n",
            "Generating equally weighted posteriors\n",
            "Generating weighted posteriors\n",
            "Clustering on posteriors\n",
            "Writing a resume file to chains/CC + SNIa + BAO.resume\n",
            "\n",
            "generating live points\n",
            "\n",
            "\n",
            "all live points generated\n",
            "\n",
            "Speed  1 =  0.319E-02 seconds\n",
            "number of repeats:           20\n",
            "started sampling\n",
            "\n",
            "Last dead point: [ 6.18766278e+01  8.68427955e-01  1.55274003e+02 -1.94982751e+01\n",
            "  8.25861423e+03  5.11686136e+00  0.00000000e+00  1.31572045e-01\n",
            " -3.17515689e+04 -8.25861423e+03]\n",
            "_________________\n",
            "lives      | 100 |\n",
            "phantoms   |1237 |\n",
            "posteriors | 101 |\n",
            "equals     |   1 |\n",
            "‾‾‾‾‾‾‾‾‾‾‾‾‾‾‾‾‾\n",
            "ncluster   =       1 /       1\n",
            "ndead      =                 101\n",
            "nposterior =                 101\n",
            "nequals    =                   1\n",
            "nlike      =                3240\n",
            "<nlike>    =          31.40   (           1.57 per slice )\n",
            "log(Z)     =        -8264.57 +/-  0.83\n",
            "log(Z_1)   =        -8264.57 +/-  0.83 (still evaluating)\n",
            "\n",
            "\n",
            "\n",
            "Last dead point: [ 9.07723764e+01  1.10800311e-01  1.47450017e+02 -2.00074907e+01\n",
            "  3.53035644e+03  2.18733360e+00  0.00000000e+00  8.89199689e-01\n",
            " -6.62995148e+03 -3.53035644e+03]\n",
            "_________________\n",
            "lives      | 100 |\n",
            "phantoms   |1850 |\n",
            "posteriors | 202 |\n",
            "equals     |   1 |\n",
            "‾‾‾‾‾‾‾‾‾‾‾‾‾‾‾‾‾\n",
            "ncluster   =       1 /       1\n",
            "ndead      =                 202\n",
            "nposterior =                 202\n",
            "nequals    =                   1\n",
            "nlike      =                8559\n",
            "<nlike>    =          53.19   (           2.66 per slice )\n",
            "log(Z)     =        -3537.32 +/-  0.84\n",
            "log(Z_1)   =        -3537.32 +/-  0.84 (still evaluating)\n",
            "\n",
            "\n",
            "\n",
            "Last dead point: [ 6.11447035e+01  1.47628962e-01  1.88345939e+02 -1.87059247e+01\n",
            "  2.27246122e+03  1.40796854e+00  0.00000000e+00  8.52371038e-01\n",
            " -2.87979514e+03 -2.27246122e+03]\n",
            "_________________\n",
            "lives      | 100 |\n",
            "phantoms   |2098 |\n",
            "posteriors | 303 |\n",
            "equals     |   1 |\n",
            "‾‾‾‾‾‾‾‾‾‾‾‾‾‾‾‾‾\n",
            "ncluster   =       1 /       1\n",
            "ndead      =                 303\n",
            "nposterior =                 303\n",
            "nequals    =                   1\n",
            "nlike      =               14550\n",
            "<nlike>    =          59.91   (           3.00 per slice )\n",
            "log(Z)     =        -2280.44 +/-  0.84\n",
            "log(Z_1)   =        -2280.44 +/-  0.84 (still evaluating)\n",
            "\n",
            "\n",
            "\n",
            "Last dead point: [ 5.94703692e+01  2.98299642e-01  1.79346127e+02 -1.93187335e+01\n",
            "  1.73692099e+03  1.07615923e+00  1.68950554e-02  7.01700358e-01\n",
            " -4.23436148e+03 -1.73692099e+03]\n",
            "_________________\n",
            "lives      | 100 |\n",
            "phantoms   |1860 |\n",
            "posteriors | 404 |\n",
            "equals     |   1 |\n",
            "‾‾‾‾‾‾‾‾‾‾‾‾‾‾‾‾‾\n",
            "ncluster   =       1 /       1\n",
            "ndead      =                 404\n",
            "nposterior =                 404\n",
            "nequals    =                   1\n",
            "nlike      =               20734\n",
            "<nlike>    =          61.84   (           3.09 per slice )\n",
            "log(Z)     =        -1745.27 +/-  0.64\n",
            "log(Z_1)   =        -1745.27 +/-  0.64 (still evaluating)\n",
            "\n",
            "\n",
            "\n",
            "Last dead point: [ 9.89519419e+01  2.80048696e-01  1.05807014e+02 -1.95611208e+01\n",
            "  1.52370284e+03  9.44053802e-01  9.46099987e-01  7.19951304e-01\n",
            " -1.54006552e+03 -1.52370284e+03]\n",
            "_________________\n",
            "lives      | 100 |\n",
            "phantoms   |1687 |\n",
            "posteriors | 505 |\n",
            "equals     |   1 |\n",
            "‾‾‾‾‾‾‾‾‾‾‾‾‾‾‾‾‾\n",
            "ncluster   =       1 /       1\n",
            "ndead      =                 505\n",
            "nposterior =                 505\n",
            "nequals    =                   1\n",
            "nlike      =               27588\n",
            "<nlike>    =          68.54   (           3.43 per slice )\n",
            "log(Z)     =        -1533.61 +/-  0.82\n",
            "log(Z_1)   =        -1533.61 +/-  0.82 (still evaluating)\n",
            "\n",
            "\n",
            "\n",
            "Last dead point: [ 6.54409776e+01  3.61223622e-01  1.47639647e+02 -1.97559194e+01\n",
            "  1.46861099e+03  9.09920071e-01  9.95709222e-01  6.38776378e-01\n",
            " -1.55399294e+03 -1.46861099e+03]\n",
            "_________________\n",
            "lives      | 100 |\n",
            "phantoms   |1890 |\n",
            "posteriors | 606 |\n",
            "equals     |   5 |\n",
            "‾‾‾‾‾‾‾‾‾‾‾‾‾‾‾‾‾\n",
            "ncluster   =       1 /       1\n",
            "ndead      =                 606\n",
            "nposterior =                 606\n",
            "nequals    =                   5\n",
            "nlike      =               34992\n",
            "<nlike>    =          74.04   (           3.70 per slice )\n",
            "log(Z)     =        -1477.50 +/-  0.39\n",
            "log(Z_1)   =        -1477.50 +/-  0.39 (still evaluating)\n",
            "\n",
            "\n",
            "\n",
            "Last dead point: [ 5.18980866e+01  3.23129239e-01  1.91608694e+02 -1.88884712e+01\n",
            "  1.44510121e+03  8.95353907e-01  9.98934876e-01  6.76870761e-01\n",
            " -1.46892929e+03 -1.44510121e+03]\n",
            "_________________\n",
            "lives      | 100 |\n",
            "phantoms   |1867 |\n",
            "posteriors | 707 |\n",
            "equals     |   9 |\n",
            "‾‾‾‾‾‾‾‾‾‾‾‾‾‾‾‾‾\n",
            "ncluster   =       1 /       1\n",
            "ndead      =                 707\n",
            "nposterior =                 707\n",
            "nequals    =                   9\n",
            "nlike      =               42825\n",
            "<nlike>    =          78.33   (           3.92 per slice )\n",
            "log(Z)     =        -1454.60 +/-  0.35\n",
            "log(Z_1)   =        -1454.60 +/-  0.35 (still evaluating)\n",
            "\n",
            "\n",
            "\n",
            "Last dead point: [ 6.23162514e+01  3.14524247e-01  1.62007514e+02 -1.92222521e+01\n",
            "  1.43347506e+03  8.88150595e-01  9.99503303e-01  6.85475753e-01\n",
            " -1.43666320e+03 -1.43347506e+03]\n",
            "_______________________\n",
            "lives      |  99 |   1 |\n",
            "phantoms   |1684 |  37 |\n",
            "posteriors | 803 | 710 |\n",
            "equals     |  15 |   1 |\n",
            "‾‾‾‾‾‾‾‾‾‾‾‾‾‾‾‾‾‾‾‾‾‾‾\n",
            "ncluster   =       2 /       3\n",
            "ndead      =                 809\n",
            "nposterior =                 809\n",
            "nequals    =                  12\n",
            "nlike      =               51708\n",
            "<nlike>    =          88.83   (           4.44 per slice )\n",
            "log(Z)     =        -1443.51 +/-  0.32\n",
            "log(Z_1)   =        -1443.52 +/-  0.32 (still evaluating)\n",
            "log(Z_2)   =        -1450.43 +/-  0.68 (still evaluating)\n",
            "log(Z_3)   =        -1451.51 +/-  0.74\n",
            "\n",
            "\n",
            "\n",
            "Last dead point: [ 7.38507253e+01  2.92875035e-01  1.38501866e+02 -1.86449863e+01\n",
            "  1.42857029e+03  8.85111704e-01  9.99645357e-01  7.07124965e-01\n",
            " -1.44722644e+03 -1.42857029e+03]\n",
            "_________________\n",
            "lives      | 100 |\n",
            "phantoms   |1861 |\n",
            "posteriors | 901 |\n",
            "equals     |  19 |\n",
            "‾‾‾‾‾‾‾‾‾‾‾‾‾‾‾‾‾\n",
            "ncluster   =       1 /       3\n",
            "ndead      =                 908\n",
            "nposterior =                 908\n",
            "nequals    =                  21\n",
            "nlike      =               59822\n",
            "<nlike>    =          81.14   (           4.06 per slice )\n",
            "log(Z)     =        -1439.06 +/-  0.31\n",
            "log(Z_1)   =        -1439.07 +/-  0.31 (still evaluating)\n",
            "log(Z_2)   =        -1444.63 +/-  0.78\n",
            "log(Z_3)   =        -1451.51 +/-  0.74\n",
            "\n",
            "\n",
            "\n",
            "Last dead point: [ 6.20627913e+01  3.01589561e-01  1.63053289e+02 -1.84142898e+01\n",
            "  1.42597826e+03  8.83505736e-01  9.99704272e-01  6.98410439e-01\n",
            " -1.42666759e+03 -1.42597826e+03]\n",
            "_________________\n",
            "lives      | 100 |\n",
            "phantoms   |1910 |\n",
            "posteriors |1002 |\n",
            "equals     |  52 |\n",
            "‾‾‾‾‾‾‾‾‾‾‾‾‾‾‾‾‾\n",
            "ncluster   =       1 /       3\n",
            "ndead      =                1009\n",
            "nposterior =                1009\n",
            "nequals    =                  62\n",
            "nlike      =               67721\n",
            "<nlike>    =          78.99   (           3.95 per slice )\n",
            "log(Z)     =        -1436.63 +/-  0.30\n",
            "log(Z_1)   =        -1436.63 +/-  0.30 (still evaluating)\n",
            "log(Z_2)   =        -1444.63 +/-  0.78\n",
            "log(Z_3)   =        -1451.51 +/-  0.74\n",
            "\n",
            "\n",
            "\n",
            "Last dead point: [ 6.81391338e+01  2.97779420e-01  1.48647242e+02 -1.83805096e+01\n",
            "  1.42450235e+03  8.82591292e-01  9.99733636e-01  7.02220580e-01\n",
            " -1.42481919e+03 -1.42450235e+03]\n",
            "_________________\n",
            "lives      | 100 |\n",
            "phantoms   |1850 |\n",
            "posteriors |1103 |\n",
            "equals     | 114 |\n",
            "‾‾‾‾‾‾‾‾‾‾‾‾‾‾‾‾‾\n",
            "ncluster   =       1 /       3\n",
            "ndead      =                1110\n",
            "nposterior =                1110\n",
            "nequals    =                 120\n",
            "nlike      =               75725\n",
            "<nlike>    =          80.04   (           4.00 per slice )\n",
            "log(Z)     =        -1435.38 +/-  0.31\n",
            "log(Z_1)   =        -1435.38 +/-  0.31 (still evaluating)\n",
            "log(Z_2)   =        -1444.63 +/-  0.78\n",
            "log(Z_3)   =        -1451.51 +/-  0.74\n",
            "\n",
            "\n",
            "\n",
            "Last dead point: [ 7.07557512e+01  3.06122975e-01  1.42756860e+02 -1.93475296e+01\n",
            "  1.42370509e+03  8.82097329e-01  9.99748352e-01  6.93877025e-01\n",
            " -1.42371753e+03 -1.42370509e+03]\n",
            "_________________\n",
            "lives      | 100 |\n",
            "phantoms   |1673 |\n",
            "posteriors |1204 |\n",
            "equals     | 207 |\n",
            "‾‾‾‾‾‾‾‾‾‾‾‾‾‾‾‾‾\n",
            "ncluster   =       1 /       3\n",
            "ndead      =                1211\n",
            "nposterior =                1211\n",
            "nequals    =                 210\n",
            "nlike      =               83594\n",
            "<nlike>    =          78.69   (           3.93 per slice )\n",
            "log(Z)     =        -1434.82 +/-  0.31\n",
            "log(Z_1)   =        -1434.82 +/-  0.31 (still evaluating)\n",
            "log(Z_2)   =        -1444.63 +/-  0.78\n",
            "log(Z_3)   =        -1451.51 +/-  0.74\n",
            "\n",
            "\n",
            "\n",
            "Last dead point: [ 6.96817273e+01  3.00526623e-01  1.45249025e+02 -1.93102853e+01\n",
            "  1.42341677e+03  8.81918694e-01  9.99753486e-01  6.99473377e-01\n",
            " -1.42352267e+03 -1.42341677e+03]\n",
            "_________________\n",
            "lives      | 100 |\n",
            "phantoms   |1993 |\n",
            "posteriors |1305 |\n",
            "equals     | 260 |\n",
            "‾‾‾‾‾‾‾‾‾‾‾‾‾‾‾‾‾\n",
            "ncluster   =       1 /       3\n",
            "ndead      =                1312\n",
            "nposterior =                1312\n",
            "nequals    =                 266\n",
            "nlike      =               91786\n",
            "<nlike>    =          81.92   (           4.10 per slice )\n",
            "log(Z)     =        -1434.58 +/-  0.31\n",
            "log(Z_1)   =        -1434.58 +/-  0.31 (still evaluating)\n",
            "log(Z_2)   =        -1444.63 +/-  0.78\n",
            "log(Z_3)   =        -1451.51 +/-  0.74\n",
            "\n",
            "\n",
            "\n",
            "Last dead point: [ 6.69422075e+01  3.03785447e-01  1.50892573e+02 -1.87124166e+01\n",
            "  1.42323517e+03  8.81806178e-01  9.99756670e-01  6.96214553e-01\n",
            " -1.42325324e+03 -1.42323517e+03]\n",
            "_________________\n",
            "lives      | 100 |\n",
            "phantoms   |1898 |\n",
            "posteriors |1406 |\n",
            "equals     | 291 |\n",
            "‾‾‾‾‾‾‾‾‾‾‾‾‾‾‾‾‾\n",
            "ncluster   =       1 /       3\n",
            "ndead      =                1413\n",
            "nposterior =                1413\n",
            "nequals    =                 291\n",
            "nlike      =              100073\n",
            "<nlike>    =          82.87   (           4.14 per slice )\n",
            "log(Z)     =        -1434.48 +/-  0.31\n",
            "log(Z_1)   =        -1434.48 +/-  0.31 (still evaluating)\n",
            "log(Z_2)   =        -1444.63 +/-  0.78\n",
            "log(Z_3)   =        -1451.51 +/-  0.74\n",
            "\n",
            "\n",
            "\n",
            "Last dead point: [ 6.79105277e+01  3.04863608e-01  1.48592314e+02 -1.86347660e+01\n",
            "  1.42313649e+03  8.81745040e-01  9.99758384e-01  6.95136392e-01\n",
            " -1.42317696e+03 -1.42313649e+03]\n",
            "_________________\n",
            "lives      | 100 |\n",
            "phantoms   |1916 |\n",
            "posteriors |1507 |\n",
            "equals     | 307 |\n",
            "‾‾‾‾‾‾‾‾‾‾‾‾‾‾‾‾‾\n",
            "ncluster   =       1 /       3\n",
            "ndead      =                1514\n",
            "nposterior =                1514\n",
            "nequals    =                 297\n",
            "nlike      =              108557\n",
            "<nlike>    =          84.84   (           4.24 per slice )\n",
            "log(Z)     =        -1434.45 +/-  0.31\n",
            "log(Z_1)   =        -1434.45 +/-  0.31 (still evaluating)\n",
            "log(Z_2)   =        -1444.63 +/-  0.78\n",
            "log(Z_3)   =        -1451.51 +/-  0.74\n",
            "\n",
            "\n",
            "\n",
            "Last dead point: [ 6.84689209e+01  3.05365771e-01  1.47333158e+02 -1.89476238e+01\n",
            "  1.42308222e+03  8.81711412e-01  9.99759322e-01  6.94634229e-01\n",
            " -1.42310172e+03 -1.42308222e+03]\n",
            "_________________\n",
            "lives      | 100 |\n",
            "phantoms   |1870 |\n",
            "posteriors |1608 |\n",
            "equals     | 313 |\n",
            "‾‾‾‾‾‾‾‾‾‾‾‾‾‾‾‾‾\n",
            "ncluster   =       1 /       3\n",
            "ndead      =                1615\n",
            "nposterior =                1615\n",
            "nequals    =                 303\n",
            "nlike      =              117355\n",
            "<nlike>    =          87.98   (           4.40 per slice )\n",
            "log(Z)     =        -1434.43 +/-  0.31\n",
            "log(Z_1)   =        -1434.43 +/-  0.31 (still evaluating)\n",
            "log(Z_2)   =        -1444.63 +/-  0.78\n",
            "log(Z_3)   =        -1451.51 +/-  0.74\n",
            "\n",
            "\n",
            "\n",
            "Last dead point: [ 6.80223443e+01  3.04440551e-01  1.48544230e+02 -1.96209880e+01\n",
            "  1.42305431e+03  8.81694122e-01  9.99759803e-01  6.95559449e-01\n",
            " -1.42313460e+03 -1.42305431e+03]\n",
            "_________________\n",
            "lives      | 100 |\n",
            "phantoms   |1981 |\n",
            "posteriors |1709 |\n",
            "equals     | 316 |\n",
            "‾‾‾‾‾‾‾‾‾‾‾‾‾‾‾‾‾\n",
            "ncluster   =       1 /       3\n",
            "ndead      =                1716\n",
            "nposterior =                1716\n",
            "nequals    =                 307\n",
            "nlike      =              126561\n",
            "<nlike>    =          92.06   (           4.60 per slice )\n",
            "log(Z)     =        -1434.43 +/-  0.31\n",
            "log(Z_1)   =        -1434.43 +/-  0.31 (still evaluating)\n",
            "log(Z_2)   =        -1444.63 +/-  0.78\n",
            "log(Z_3)   =        -1451.51 +/-  0.74\n",
            "\n",
            "\n",
            "\n",
            "Last dead point: [ 6.84380169e+01  3.05458650e-01  1.47440378e+02 -1.92909274e+01\n",
            "  1.42303688e+03  8.81683320e-01  9.99760103e-01  6.94541350e-01\n",
            " -1.42303736e+03 -1.42303688e+03]\n",
            "_________________\n",
            "lives      | 100 |\n",
            "phantoms   |1913 |\n",
            "posteriors |1810 |\n",
            "equals     | 317 |\n",
            "‾‾‾‾‾‾‾‾‾‾‾‾‾‾‾‾‾\n",
            "ncluster   =       1 /       3\n",
            "ndead      =                1817\n",
            "nposterior =                1817\n",
            "nequals    =                 307\n",
            "nlike      =              135924\n",
            "<nlike>    =          93.63   (           4.68 per slice )\n",
            "log(Z)     =        -1434.42 +/-  0.31\n",
            "log(Z_1)   =        -1434.42 +/-  0.31 (still evaluating)\n",
            "log(Z_2)   =        -1444.63 +/-  0.78\n",
            "log(Z_3)   =        -1451.51 +/-  0.74\n",
            "\n",
            "\n",
            "\n",
            "Last dead point: [ 6.84886407e+01  3.04054593e-01  1.47494449e+02 -1.94521366e+01\n",
            "  1.42301357e+03  8.81668877e-01  9.99760503e-01  6.95945407e-01\n",
            " -1.42303541e+03 -1.42301357e+03]\n",
            " ____________________________________________________ \n",
            "|                                                    |\n",
            "| ndead  =         1935                              |\n",
            "| log(Z) =        -1434.42244 +/-            0.31442 |\n",
            "|____________________________________________________|\n"
          ]
        }
      ],
      "source": [
        "outputTot = pypolychord.run_polychord(lnlikeTot, 4,4, settingsTot, uniprior, dumper)"
      ]
    },
    {
      "cell_type": "code",
      "execution_count": null,
      "metadata": {
        "id": "k1YcuTv8WzF-"
      },
      "outputs": [
        {
          "name": "stderr",
          "output_type": "stream",
          "text": [
            "WARNING:root:outlier fraction 0.1677327647476901 \n"
          ]
        },
        {
          "name": "stdout",
          "output_type": "stream",
          "text": [
            "chains/CC + SNIa + BAO.txt\n",
            "Removed no burn in\n"
          ]
        }
      ],
      "source": [
        "paramnames = [('H0','H_{0}'),('Om', r'\\Omega_{m0}'),('rd','r_d (Mpc)'),('M',r'\\mathcal{M}'),('L',r'L'),('Ldof',r'L/Dof'),('p','p'),('Omega_Lambda', r'\\Omega_{\\Lambda0}')]\n",
        "outputTot.make_paramnames_files(paramnames)\n",
        "\n",
        "posteriorTot = outputTot.posterior"
      ]
    },
    {
      "cell_type": "code",
      "execution_count": null,
      "metadata": {
        "id": "-n3KMtOUKWu_"
      },
      "outputs": [
        {
          "name": "stderr",
          "output_type": "stream",
          "text": [
            "WARNING:root:fine_bins not large enough to well sample smoothing scale - p\n",
            "WARNING:root:Parameters are 100% correlated: Om, Omega_Lambda\n"
          ]
        },
        {
          "data": {
            "image/png": "[encoded data removed]",
            "text/plain": [
              "<Figure size 1000x1000 with 15 Axes>"
            ]
          },
          "metadata": {},
          "output_type": "display_data"
        }
      ],
      "source": [
        "g = getdist.plots.getSubplotPlotter(width_inch=10.0)\n",
        "g.settings.figure_legend_frame = True  # Remove frame around the legend\n",
        "g.settings.alpha_filled_add = 0.6  # Adjust transparency of filled contours\n",
        "g.settings.title_limit_fontsize = 9 # Limit title fontsize to 14\n",
        "g.settings.axes_labelsize = 12  # Adjust label fontsize\n",
        "g.settings.legend_fontsize = 10  # Adjust legend fontsize\n",
        "g.settings.colorbar_axes_fontsize = 10  # Adjust colorbar fontsize\n",
        "g.triangle_plot([posteriorTot], ('H0','Om','Omega_Lambda','rd', 'M') ,filled=True, contour_colors=['darkblue'], legend_loc='upper right', legend_labels=[r'$\\Lambda$CDM Model'],title_limit=1)\n",
        "g.export(\"fig_1.pdf\")"
      ]
    },
    {
      "cell_type": "code",
      "execution_count": null,
      "metadata": {
        "id": "IgfBzkl7mX2H"
      },
      "outputs": [
        {
          "name": "stdout",
          "output_type": "stream",
          "text": [
            "Tot\n",
            "H_{0} = 68.319860 +/- 2.554248 +/- 5.595545\n",
            "\\Omega_{m0} = 0.304349 +/- 0.005319 +/- 0.010277\n",
            "r_d (Mpc) = 148.071701 +/- 5.412974 +/- 11.142750\n",
            "\\mathcal{M} = -19.023304 +/- 0.521333 +/- 1.047191\n",
            "L = 1424.475745 +/- 1.026893 +/- 1.331156\n",
            "L/Dof = 0.882575 +/- 0.000636 +/- 0.000825\n",
            "p = 0.999733 +/- 0.000019 +/- 0.000070\n",
            "\\Omega_{\\Lambda0} = 0.695651 +/- 0.005704 +/- 0.012196\n"
          ]
        }
      ],
      "source": [
        "def get_constraints(samples):\n",
        "    for i, mean in enumerate(samples.getMeans()):\n",
        "        upper = samples.confidence(i, upper=True, limfrac=0.05)\n",
        "        #print(\"\\nupper limit 95 C.L. = %f\" % upper)\n",
        "        lower = samples.confidence(i, upper=False, limfrac=0.05)\n",
        "        #print(\"lower limit 95 C.L. = %f\" % lower)\n",
        "        print(\"%s = %f +/- %f +/- %f\" % (samples.parLabel(i),\\\n",
        "\n",
        "        mean, mean - samples.confidence(i, limfrac=0.16),\\\n",
        "        mean - samples.confidence(i, limfrac=0.025)) )\n",
        "    return\n",
        "for i in [\"Tot\"]:\n",
        "    print(i)\n",
        "    get_constraints(eval(\"posterior\"+i))"
      ]
    }
  ],
  "metadata": {
    "colab": {
      "provenance": [],
      "toc_visible": true
    },
    "kernelspec": {
      "display_name": "polychord_env",
      "language": "python",
      "name": "python3"
    },
    "language_info": {
      "codemirror_mode": {
        "name": "ipython",
        "version": 3
      },
      "file_extension": ".py",
      "mimetype": "text/x-python",
      "name": "python",
      "nbconvert_exporter": "python",
      "pygments_lexer": "ipython3",
      "version": "3.10.17"
    }
  },
  "nbformat": 4,
  "nbformat_minor": 0
}
